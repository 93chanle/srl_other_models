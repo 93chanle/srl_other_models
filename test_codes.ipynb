{
 "cells": [
  {
   "cell_type": "code",
   "execution_count": 2,
   "metadata": {},
   "outputs": [],
   "source": [
    "from sklearn.metrics import mean_absolute_error\n",
    "import numpy as np"
   ]
  },
  {
   "cell_type": "code",
   "execution_count": 3,
   "metadata": {},
   "outputs": [],
   "source": [
    "a = np.array([0, 1, 2, 3])\n",
    "\n",
    "b = np.array([5, 4, 3, 2])"
   ]
  },
  {
   "cell_type": "code",
   "execution_count": 1,
   "metadata": {},
   "outputs": [
    {
     "name": "stderr",
     "output_type": "stream",
     "text": [
      "c:\\Users\\cle\\AppData\\Local\\miniforge3\\envs\\test\\lib\\site-packages\\tqdm\\auto.py:22: TqdmWarning: IProgress not found. Please update jupyter and ipywidgets. See https://ipywidgets.readthedocs.io/en/stable/user_install.html\n",
      "  from .autonotebook import tqdm as notebook_tqdm\n"
     ]
    }
   ],
   "source": [
    "import argparse\n",
    "import os\n",
    "import torch\n",
    "import yaml\n",
    "import pickle as pkl\n",
    "\n",
    "from model.embed import DataEmbedding\n",
    "\n",
    "import xgboost as xgb\n",
    "\n",
    "from data.argparser import args_parsing\n",
    "\n",
    "import numpy as np\n",
    "from datetime import datetime\n",
    "\n",
    "now = datetime.now().strftime(\"%d-%m-%Y_%H-%M-%S\")\n",
    "from data.data_loader import Dataset_XGB\n",
    "from utils.postprocessing import ProcessedResult\n",
    "\n",
    "from sklearn.multioutput import MultiOutputRegressor\n",
    "from sklearn.metrics import mean_absolute_error\n",
    "\n",
    "from model.embed import DataEmbedding\n",
    "\n",
    "from torch.utils.data import DataLoader"
   ]
  },
  {
   "cell_type": "code",
   "execution_count": 2,
   "metadata": {},
   "outputs": [],
   "source": [
    "path = os.path.abspath('D:\\srl_other_models\\data\\processed\\SRL')"
   ]
  },
  {
   "cell_type": "code",
   "execution_count": 5,
   "metadata": {},
   "outputs": [],
   "source": [
    "data = Dataset_XGB(\n",
    "    root_path=os.path.abspath('D:\\srl_other_models\\data\\dummy_dataset'),\n",
    "    data_path='SRL_NEG_00_04_dummy.csv',\n",
    "    flag='train',\n",
    "    size=[5, 1],\n",
    "    scale=None\n",
    ")"
   ]
  },
  {
   "cell_type": "code",
   "execution_count": 18,
   "metadata": {},
   "outputs": [
    {
     "data": {
      "text/plain": [
       "array([[ 1,  2,  3,  4,  5],\n",
       "       [ 2,  3,  4,  5,  6],\n",
       "       [ 3,  4,  5,  6,  7],\n",
       "       [ 4,  5,  6,  7,  8],\n",
       "       [ 5,  6,  7,  8,  9],\n",
       "       [ 6,  7,  8,  9, 10],\n",
       "       [ 7,  8,  9, 10, 11],\n",
       "       [ 8,  9, 10, 11, 12],\n",
       "       [ 9, 10, 11, 12, 13]], dtype=int64)"
      ]
     },
     "execution_count": 18,
     "metadata": {},
     "output_type": "execute_result"
    }
   ],
   "source": [
    "np.array(data.seqs_x).reshape(-1, 5)\n",
    "# np.array(data.seqs_x_mark).reshape(-1, 5)"
   ]
  },
  {
   "cell_type": "code",
   "execution_count": 31,
   "metadata": {},
   "outputs": [
    {
     "ename": "ValueError",
     "evalue": "cannot reshape array of size 135 into shape (9,3)",
     "output_type": "error",
     "traceback": [
      "\u001b[1;31m---------------------------------------------------------------------------\u001b[0m",
      "\u001b[1;31mValueError\u001b[0m                                Traceback (most recent call last)",
      "\u001b[1;32md:\\srl_other_models\\test_codes.ipynb Cell 7\u001b[0m in \u001b[0;36m2\n\u001b[0;32m      <a href='vscode-notebook-cell:/d%3A/srl_other_models/test_codes.ipynb#X13sZmlsZQ%3D%3D?line=0'>1</a>\u001b[0m x_matrix \u001b[39m=\u001b[39m np\u001b[39m.\u001b[39marray(data\u001b[39m.\u001b[39mseqs_x)\u001b[39m.\u001b[39mreshape(\u001b[39m-\u001b[39m\u001b[39m1\u001b[39m, \u001b[39m5\u001b[39m)\n\u001b[1;32m----> <a href='vscode-notebook-cell:/d%3A/srl_other_models/test_codes.ipynb#X13sZmlsZQ%3D%3D?line=1'>2</a>\u001b[0m mark_matrix \u001b[39m=\u001b[39m np\u001b[39m.\u001b[39;49marray(data\u001b[39m.\u001b[39;49mseqs_x_mark)\u001b[39m.\u001b[39;49mreshape(\u001b[39m9\u001b[39;49m, \u001b[39m3\u001b[39;49m)\n",
      "\u001b[1;31mValueError\u001b[0m: cannot reshape array of size 135 into shape (9,3)"
     ]
    }
   ],
   "source": [
    "x_matrix = np.array(data.seqs_x).reshape(-1, 5)\n",
    "mark_matrix = np.array(data.seqs_x_mark).reshape(9, 3)"
   ]
  },
  {
   "cell_type": "code",
   "execution_count": 33,
   "metadata": {},
   "outputs": [
    {
     "data": {
      "text/plain": [
       "(9, 5, 3)"
      ]
     },
     "execution_count": 33,
     "metadata": {},
     "output_type": "execute_result"
    }
   ],
   "source": [
    "np.array(data.seqs_x_mark).shape"
   ]
  },
  {
   "cell_type": "code",
   "execution_count": 30,
   "metadata": {},
   "outputs": [
    {
     "data": {
      "text/plain": [
       "(9, 20)"
      ]
     },
     "execution_count": 30,
     "metadata": {},
     "output_type": "execute_result"
    }
   ],
   "source": [
    "np.concatenate((x_matrix, mark_matrix), 1).shape"
   ]
  },
  {
   "cell_type": "code",
   "execution_count": 28,
   "metadata": {},
   "outputs": [
    {
     "data": {
      "text/plain": [
       "array([[11,  2,  0, 11,  3,  1, 11,  4,  2, 11,  5,  3, 11,  6,  4],\n",
       "       [11,  3,  1, 11,  4,  2, 11,  5,  3, 11,  6,  4, 11,  7,  5],\n",
       "       [11,  4,  2, 11,  5,  3, 11,  6,  4, 11,  7,  5, 11,  8,  6],\n",
       "       [11,  5,  3, 11,  6,  4, 11,  7,  5, 11,  8,  6, 11,  9,  0],\n",
       "       [11,  6,  4, 11,  7,  5, 11,  8,  6, 11,  9,  0, 11, 10,  1],\n",
       "       [11,  7,  5, 11,  8,  6, 11,  9,  0, 11, 10,  1, 11, 11,  2],\n",
       "       [11,  8,  6, 11,  9,  0, 11, 10,  1, 11, 11,  2, 11, 12,  3],\n",
       "       [11,  9,  0, 11, 10,  1, 11, 11,  2, 11, 12,  3, 11, 13,  4],\n",
       "       [11, 10,  1, 11, 11,  2, 11, 12,  3, 11, 13,  4, 11, 14,  5]],\n",
       "      dtype=int64)"
      ]
     },
     "execution_count": 28,
     "metadata": {},
     "output_type": "execute_result"
    }
   ],
   "source": [
    "mark_matrix"
   ]
  },
  {
   "cell_type": "code",
   "execution_count": 16,
   "metadata": {},
   "outputs": [
    {
     "data": {
      "text/plain": [
       "(9, 5, 1)"
      ]
     },
     "execution_count": 16,
     "metadata": {},
     "output_type": "execute_result"
    }
   ],
   "source": [
    "np.array(data.seqs_x).shape"
   ]
  },
  {
   "cell_type": "code",
   "execution_count": 20,
   "metadata": {},
   "outputs": [
    {
     "data": {
      "text/plain": [
       "array([[[11,  2,  0],\n",
       "        [11,  3,  1],\n",
       "        [11,  4,  2],\n",
       "        [11,  5,  3],\n",
       "        [11,  6,  4]],\n",
       "\n",
       "       [[11,  3,  1],\n",
       "        [11,  4,  2],\n",
       "        [11,  5,  3],\n",
       "        [11,  6,  4],\n",
       "        [11,  7,  5]],\n",
       "\n",
       "       [[11,  4,  2],\n",
       "        [11,  5,  3],\n",
       "        [11,  6,  4],\n",
       "        [11,  7,  5],\n",
       "        [11,  8,  6]],\n",
       "\n",
       "       [[11,  5,  3],\n",
       "        [11,  6,  4],\n",
       "        [11,  7,  5],\n",
       "        [11,  8,  6],\n",
       "        [11,  9,  0]],\n",
       "\n",
       "       [[11,  6,  4],\n",
       "        [11,  7,  5],\n",
       "        [11,  8,  6],\n",
       "        [11,  9,  0],\n",
       "        [11, 10,  1]],\n",
       "\n",
       "       [[11,  7,  5],\n",
       "        [11,  8,  6],\n",
       "        [11,  9,  0],\n",
       "        [11, 10,  1],\n",
       "        [11, 11,  2]],\n",
       "\n",
       "       [[11,  8,  6],\n",
       "        [11,  9,  0],\n",
       "        [11, 10,  1],\n",
       "        [11, 11,  2],\n",
       "        [11, 12,  3]],\n",
       "\n",
       "       [[11,  9,  0],\n",
       "        [11, 10,  1],\n",
       "        [11, 11,  2],\n",
       "        [11, 12,  3],\n",
       "        [11, 13,  4]],\n",
       "\n",
       "       [[11, 10,  1],\n",
       "        [11, 11,  2],\n",
       "        [11, 12,  3],\n",
       "        [11, 13,  4],\n",
       "        [11, 14,  5]]], dtype=int64)"
      ]
     },
     "execution_count": 20,
     "metadata": {},
     "output_type": "execute_result"
    }
   ],
   "source": [
    "np.array(data.seqs_x_mark)"
   ]
  },
  {
   "cell_type": "code",
   "execution_count": 13,
   "metadata": {},
   "outputs": [],
   "source": [
    "data_loader = DataLoader(\n",
    "    data,\n",
    "    batch_size=9,\n",
    "    shuffle=False,\n",
    "    num_workers=1,\n",
    "    drop_last=False)"
   ]
  },
  {
   "cell_type": "code",
   "execution_count": 5,
   "metadata": {},
   "outputs": [],
   "source": [
    "data_emb = DataEmbedding(1, 32, 'fixed', 'd', 0.05)"
   ]
  },
  {
   "cell_type": "code",
   "execution_count": 9,
   "metadata": {},
   "outputs": [
    {
     "ename": "AttributeError",
     "evalue": "'list' object has no attribute 'permute'",
     "output_type": "error",
     "traceback": [
      "\u001b[1;31m---------------------------------------------------------------------------\u001b[0m",
      "\u001b[1;31mAttributeError\u001b[0m                            Traceback (most recent call last)",
      "\u001b[1;32md:\\srl_other_models\\test_codes.ipynb Cell 7\u001b[0m in \u001b[0;36m1\n\u001b[1;32m----> <a href='vscode-notebook-cell:/d%3A/srl_other_models/test_codes.ipynb#W6sZmlsZQ%3D%3D?line=0'>1</a>\u001b[0m data_emb(data\u001b[39m.\u001b[39;49mseqs_x, data\u001b[39m.\u001b[39;49mseqs_x_date)\n",
      "File \u001b[1;32mc:\\Users\\cle\\AppData\\Local\\miniforge3\\envs\\test\\lib\\site-packages\\torch\\nn\\modules\\module.py:1190\u001b[0m, in \u001b[0;36mModule._call_impl\u001b[1;34m(self, *input, **kwargs)\u001b[0m\n\u001b[0;32m   1186\u001b[0m \u001b[39m# If we don't have any hooks, we want to skip the rest of the logic in\u001b[39;00m\n\u001b[0;32m   1187\u001b[0m \u001b[39m# this function, and just call forward.\u001b[39;00m\n\u001b[0;32m   1188\u001b[0m \u001b[39mif\u001b[39;00m \u001b[39mnot\u001b[39;00m (\u001b[39mself\u001b[39m\u001b[39m.\u001b[39m_backward_hooks \u001b[39mor\u001b[39;00m \u001b[39mself\u001b[39m\u001b[39m.\u001b[39m_forward_hooks \u001b[39mor\u001b[39;00m \u001b[39mself\u001b[39m\u001b[39m.\u001b[39m_forward_pre_hooks \u001b[39mor\u001b[39;00m _global_backward_hooks\n\u001b[0;32m   1189\u001b[0m         \u001b[39mor\u001b[39;00m _global_forward_hooks \u001b[39mor\u001b[39;00m _global_forward_pre_hooks):\n\u001b[1;32m-> 1190\u001b[0m     \u001b[39mreturn\u001b[39;00m forward_call(\u001b[39m*\u001b[39m\u001b[39minput\u001b[39m, \u001b[39m*\u001b[39m\u001b[39m*\u001b[39mkwargs)\n\u001b[0;32m   1191\u001b[0m \u001b[39m# Do not call functions when jit is used\u001b[39;00m\n\u001b[0;32m   1192\u001b[0m full_backward_hooks, non_full_backward_hooks \u001b[39m=\u001b[39m [], []\n",
      "File \u001b[1;32md:\\srl_other_models\\model\\embed.py:107\u001b[0m, in \u001b[0;36mDataEmbedding.forward\u001b[1;34m(self, x, x_mark)\u001b[0m\n\u001b[0;32m    106\u001b[0m \u001b[39mdef\u001b[39;00m \u001b[39mforward\u001b[39m(\u001b[39mself\u001b[39m, x, x_mark):\n\u001b[1;32m--> 107\u001b[0m     x \u001b[39m=\u001b[39m \u001b[39mself\u001b[39;49m\u001b[39m.\u001b[39;49mvalue_embedding(x) \u001b[39m+\u001b[39m \u001b[39mself\u001b[39m\u001b[39m.\u001b[39mposition_embedding(x) \u001b[39m+\u001b[39m \u001b[39mself\u001b[39m\u001b[39m.\u001b[39mtemporal_embedding(x_mark)\n\u001b[0;32m    109\u001b[0m     \u001b[39mreturn\u001b[39;00m \u001b[39mself\u001b[39m\u001b[39m.\u001b[39mdropout(x)\n",
      "File \u001b[1;32mc:\\Users\\cle\\AppData\\Local\\miniforge3\\envs\\test\\lib\\site-packages\\torch\\nn\\modules\\module.py:1190\u001b[0m, in \u001b[0;36mModule._call_impl\u001b[1;34m(self, *input, **kwargs)\u001b[0m\n\u001b[0;32m   1186\u001b[0m \u001b[39m# If we don't have any hooks, we want to skip the rest of the logic in\u001b[39;00m\n\u001b[0;32m   1187\u001b[0m \u001b[39m# this function, and just call forward.\u001b[39;00m\n\u001b[0;32m   1188\u001b[0m \u001b[39mif\u001b[39;00m \u001b[39mnot\u001b[39;00m (\u001b[39mself\u001b[39m\u001b[39m.\u001b[39m_backward_hooks \u001b[39mor\u001b[39;00m \u001b[39mself\u001b[39m\u001b[39m.\u001b[39m_forward_hooks \u001b[39mor\u001b[39;00m \u001b[39mself\u001b[39m\u001b[39m.\u001b[39m_forward_pre_hooks \u001b[39mor\u001b[39;00m _global_backward_hooks\n\u001b[0;32m   1189\u001b[0m         \u001b[39mor\u001b[39;00m _global_forward_hooks \u001b[39mor\u001b[39;00m _global_forward_pre_hooks):\n\u001b[1;32m-> 1190\u001b[0m     \u001b[39mreturn\u001b[39;00m forward_call(\u001b[39m*\u001b[39m\u001b[39minput\u001b[39m, \u001b[39m*\u001b[39m\u001b[39m*\u001b[39mkwargs)\n\u001b[0;32m   1191\u001b[0m \u001b[39m# Do not call functions when jit is used\u001b[39;00m\n\u001b[0;32m   1192\u001b[0m full_backward_hooks, non_full_backward_hooks \u001b[39m=\u001b[39m [], []\n",
      "File \u001b[1;32md:\\srl_other_models\\model\\embed.py:37\u001b[0m, in \u001b[0;36mTokenEmbedding.forward\u001b[1;34m(self, x)\u001b[0m\n\u001b[0;32m     36\u001b[0m \u001b[39mdef\u001b[39;00m \u001b[39mforward\u001b[39m(\u001b[39mself\u001b[39m, x):\n\u001b[1;32m---> 37\u001b[0m     x \u001b[39m=\u001b[39m \u001b[39mself\u001b[39m\u001b[39m.\u001b[39mtokenConv(x\u001b[39m.\u001b[39;49mpermute(\u001b[39m0\u001b[39m, \u001b[39m2\u001b[39m, \u001b[39m1\u001b[39m))\u001b[39m.\u001b[39mtranspose(\u001b[39m1\u001b[39m,\u001b[39m2\u001b[39m)\n\u001b[0;32m     38\u001b[0m     \u001b[39mreturn\u001b[39;00m x\n",
      "\u001b[1;31mAttributeError\u001b[0m: 'list' object has no attribute 'permute'"
     ]
    }
   ],
   "source": [
    "data_emb(data.seqs_x, data.seqs_x_date)"
   ]
  },
  {
   "cell_type": "code",
   "execution_count": null,
   "metadata": {},
   "outputs": [],
   "source": [
    "[i* 5 for i in range(1:10)]"
   ]
  }
 ],
 "metadata": {
  "kernelspec": {
   "display_name": "test",
   "language": "python",
   "name": "python3"
  },
  "language_info": {
   "codemirror_mode": {
    "name": "ipython",
    "version": 3
   },
   "file_extension": ".py",
   "mimetype": "text/x-python",
   "name": "python",
   "nbconvert_exporter": "python",
   "pygments_lexer": "ipython3",
   "version": "3.10.6"
  },
  "orig_nbformat": 4
 },
 "nbformat": 4,
 "nbformat_minor": 2
}
