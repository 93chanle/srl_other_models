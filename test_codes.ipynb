{
 "cells": [
  {
   "cell_type": "code",
   "execution_count": 2,
   "metadata": {},
   "outputs": [],
   "source": [
    "from sklearn.metrics import mean_absolute_error\n",
    "import numpy as np"
   ]
  },
  {
   "cell_type": "code",
   "execution_count": 3,
   "metadata": {},
   "outputs": [],
   "source": [
    "a = np.array([0, 1, 2, 3])\n",
    "\n",
    "b = np.array([5, 4, 3, 2])"
   ]
  },
  {
   "cell_type": "code",
   "execution_count": 1,
   "metadata": {},
   "outputs": [
    {
     "name": "stderr",
     "output_type": "stream",
     "text": [
      "c:\\Users\\cle\\AppData\\Local\\miniforge3\\envs\\test\\lib\\site-packages\\tqdm\\auto.py:22: TqdmWarning: IProgress not found. Please update jupyter and ipywidgets. See https://ipywidgets.readthedocs.io/en/stable/user_install.html\n",
      "  from .autonotebook import tqdm as notebook_tqdm\n"
     ]
    }
   ],
   "source": [
    "import argparse\n",
    "import os\n",
    "import torch\n",
    "import yaml\n",
    "import pickle as pkl\n",
    "\n",
    "from model.embed import DataEmbedding\n",
    "\n",
    "import xgboost as xgb\n",
    "\n",
    "from data.argparser import args_parsing\n",
    "\n",
    "import numpy as np\n",
    "from datetime import datetime\n",
    "\n",
    "now = datetime.now().strftime(\"%d-%m-%Y_%H-%M-%S\")\n",
    "from data.data_loader import Dataset_XGB\n",
    "from utils.postprocessing import ProcessedResult\n",
    "\n",
    "from sklearn.multioutput import MultiOutputRegressor\n",
    "from sklearn.metrics import mean_absolute_error\n",
    "\n",
    "from model.embed import DataEmbedding\n",
    "\n",
    "from torch.utils.data import DataLoader"
   ]
  },
  {
   "cell_type": "code",
   "execution_count": 2,
   "metadata": {},
   "outputs": [],
   "source": [
    "path = os.path.abspath('D:\\srl_other_models\\data\\processed\\SRL')"
   ]
  },
  {
   "cell_type": "code",
   "execution_count": 5,
   "metadata": {},
   "outputs": [],
   "source": [
    "data = Dataset_XGB(\n",
    "    root_path=os.path.abspath('D:\\srl_other_models\\data\\dummy_dataset'),\n",
    "    data_path='SRL_NEG_00_04_dummy.csv',\n",
    "    flag='train',\n",
    "    size=[5, 1],\n",
    "    scale=None\n",
    ")"
   ]
  },
  {
   "cell_type": "code",
   "execution_count": 18,
   "metadata": {},
   "outputs": [
    {
     "data": {
      "text/plain": [
       "array([[ 1,  2,  3,  4,  5],\n",
       "       [ 2,  3,  4,  5,  6],\n",
       "       [ 3,  4,  5,  6,  7],\n",
       "       [ 4,  5,  6,  7,  8],\n",
       "       [ 5,  6,  7,  8,  9],\n",
       "       [ 6,  7,  8,  9, 10],\n",
       "       [ 7,  8,  9, 10, 11],\n",
       "       [ 8,  9, 10, 11, 12],\n",
       "       [ 9, 10, 11, 12, 13]], dtype=int64)"
      ]
     },
     "execution_count": 18,
     "metadata": {},
     "output_type": "execute_result"
    }
   ],
   "source": [
    "np.array(data.seqs_x).reshape(-1, 5)\n",
    "# np.array(data.seqs_x_mark).reshape(-1, 5)"
   ]
  },
  {
   "cell_type": "code",
   "execution_count": 31,
   "metadata": {},
   "outputs": [
    {
     "ename": "ValueError",
     "evalue": "cannot reshape array of size 135 into shape (9,3)",
     "output_type": "error",
     "traceback": [
      "\u001b[1;31m---------------------------------------------------------------------------\u001b[0m",
      "\u001b[1;31mValueError\u001b[0m                                Traceback (most recent call last)",
      "\u001b[1;32md:\\srl_other_models\\test_codes.ipynb Cell 7\u001b[0m in \u001b[0;36m2\n\u001b[0;32m      <a href='vscode-notebook-cell:/d%3A/srl_other_models/test_codes.ipynb#X13sZmlsZQ%3D%3D?line=0'>1</a>\u001b[0m x_matrix \u001b[39m=\u001b[39m np\u001b[39m.\u001b[39marray(data\u001b[39m.\u001b[39mseqs_x)\u001b[39m.\u001b[39mreshape(\u001b[39m-\u001b[39m\u001b[39m1\u001b[39m, \u001b[39m5\u001b[39m)\n\u001b[1;32m----> <a href='vscode-notebook-cell:/d%3A/srl_other_models/test_codes.ipynb#X13sZmlsZQ%3D%3D?line=1'>2</a>\u001b[0m mark_matrix \u001b[39m=\u001b[39m np\u001b[39m.\u001b[39;49marray(data\u001b[39m.\u001b[39;49mseqs_x_mark)\u001b[39m.\u001b[39;49mreshape(\u001b[39m9\u001b[39;49m, \u001b[39m3\u001b[39;49m)\n",
      "\u001b[1;31mValueError\u001b[0m: cannot reshape array of size 135 into shape (9,3)"
     ]
    }
   ],
   "source": [
    "x_matrix = np.array(data.seqs_x).reshape(-1, 5)\n",
    "mark_matrix = np.array(data.seqs_x_mark).reshape(9, 3)"
   ]
  },
  {
   "cell_type": "code",
   "execution_count": 33,
   "metadata": {},
   "outputs": [
    {
     "data": {
      "text/plain": [
       "(9, 5, 3)"
      ]
     },
     "execution_count": 33,
     "metadata": {},
     "output_type": "execute_result"
    }
   ],
   "source": [
    "np.array(data.seqs_x_mark).shape"
   ]
  },
  {
   "cell_type": "code",
   "execution_count": 30,
   "metadata": {},
   "outputs": [
    {
     "data": {
      "text/plain": [
       "(9, 20)"
      ]
     },
     "execution_count": 30,
     "metadata": {},
     "output_type": "execute_result"
    }
   ],
   "source": [
    "np.concatenate((x_matrix, mark_matrix), 1).shape"
   ]
  },
  {
   "cell_type": "code",
   "execution_count": 28,
   "metadata": {},
   "outputs": [
    {
     "data": {
      "text/plain": [
       "array([[11,  2,  0, 11,  3,  1, 11,  4,  2, 11,  5,  3, 11,  6,  4],\n",
       "       [11,  3,  1, 11,  4,  2, 11,  5,  3, 11,  6,  4, 11,  7,  5],\n",
       "       [11,  4,  2, 11,  5,  3, 11,  6,  4, 11,  7,  5, 11,  8,  6],\n",
       "       [11,  5,  3, 11,  6,  4, 11,  7,  5, 11,  8,  6, 11,  9,  0],\n",
       "       [11,  6,  4, 11,  7,  5, 11,  8,  6, 11,  9,  0, 11, 10,  1],\n",
       "       [11,  7,  5, 11,  8,  6, 11,  9,  0, 11, 10,  1, 11, 11,  2],\n",
       "       [11,  8,  6, 11,  9,  0, 11, 10,  1, 11, 11,  2, 11, 12,  3],\n",
       "       [11,  9,  0, 11, 10,  1, 11, 11,  2, 11, 12,  3, 11, 13,  4],\n",
       "       [11, 10,  1, 11, 11,  2, 11, 12,  3, 11, 13,  4, 11, 14,  5]],\n",
       "      dtype=int64)"
      ]
     },
     "execution_count": 28,
     "metadata": {},
     "output_type": "execute_result"
    }
   ],
   "source": [
    "mark_matrix"
   ]
  },
  {
   "cell_type": "code",
   "execution_count": 16,
   "metadata": {},
   "outputs": [
    {
     "data": {
      "text/plain": [
       "(9, 5, 1)"
      ]
     },
     "execution_count": 16,
     "metadata": {},
     "output_type": "execute_result"
    }
   ],
   "source": [
    "np.array(data.seqs_x).shape"
   ]
  },
  {
   "cell_type": "code",
   "execution_count": 20,
   "metadata": {},
   "outputs": [
    {
     "data": {
      "text/plain": [
       "array([[[11,  2,  0],\n",
       "        [11,  3,  1],\n",
       "        [11,  4,  2],\n",
       "        [11,  5,  3],\n",
       "        [11,  6,  4]],\n",
       "\n",
       "       [[11,  3,  1],\n",
       "        [11,  4,  2],\n",
       "        [11,  5,  3],\n",
       "        [11,  6,  4],\n",
       "        [11,  7,  5]],\n",
       "\n",
       "       [[11,  4,  2],\n",
       "        [11,  5,  3],\n",
       "        [11,  6,  4],\n",
       "        [11,  7,  5],\n",
       "        [11,  8,  6]],\n",
       "\n",
       "       [[11,  5,  3],\n",
       "        [11,  6,  4],\n",
       "        [11,  7,  5],\n",
       "        [11,  8,  6],\n",
       "        [11,  9,  0]],\n",
       "\n",
       "       [[11,  6,  4],\n",
       "        [11,  7,  5],\n",
       "        [11,  8,  6],\n",
       "        [11,  9,  0],\n",
       "        [11, 10,  1]],\n",
       "\n",
       "       [[11,  7,  5],\n",
       "        [11,  8,  6],\n",
       "        [11,  9,  0],\n",
       "        [11, 10,  1],\n",
       "        [11, 11,  2]],\n",
       "\n",
       "       [[11,  8,  6],\n",
       "        [11,  9,  0],\n",
       "        [11, 10,  1],\n",
       "        [11, 11,  2],\n",
       "        [11, 12,  3]],\n",
       "\n",
       "       [[11,  9,  0],\n",
       "        [11, 10,  1],\n",
       "        [11, 11,  2],\n",
       "        [11, 12,  3],\n",
       "        [11, 13,  4]],\n",
       "\n",
       "       [[11, 10,  1],\n",
       "        [11, 11,  2],\n",
       "        [11, 12,  3],\n",
       "        [11, 13,  4],\n",
       "        [11, 14,  5]]], dtype=int64)"
      ]
     },
     "execution_count": 20,
     "metadata": {},
     "output_type": "execute_result"
    }
   ],
   "source": [
    "np.array(data.seqs_x_mark)"
   ]
  },
  {
   "cell_type": "code",
   "execution_count": 13,
   "metadata": {},
   "outputs": [],
   "source": [
    "data_loader = DataLoader(\n",
    "    data,\n",
    "    batch_size=9,\n",
    "    shuffle=False,\n",
    "    num_workers=1,\n",
    "    drop_last=False)"
   ]
  },
  {
   "cell_type": "code",
   "execution_count": 5,
   "metadata": {},
   "outputs": [],
   "source": [
    "data_emb = DataEmbedding(1, 32, 'fixed', 'd', 0.05)"
   ]
  },
  {
   "cell_type": "code",
   "execution_count": 9,
   "metadata": {},
   "outputs": [
    {
     "ename": "AttributeError",
     "evalue": "'list' object has no attribute 'permute'",
     "output_type": "error",
     "traceback": [
      "\u001b[1;31m---------------------------------------------------------------------------\u001b[0m",
      "\u001b[1;31mAttributeError\u001b[0m                            Traceback (most recent call last)",
      "\u001b[1;32md:\\srl_other_models\\test_codes.ipynb Cell 7\u001b[0m in \u001b[0;36m1\n\u001b[1;32m----> <a href='vscode-notebook-cell:/d%3A/srl_other_models/test_codes.ipynb#W6sZmlsZQ%3D%3D?line=0'>1</a>\u001b[0m data_emb(data\u001b[39m.\u001b[39;49mseqs_x, data\u001b[39m.\u001b[39;49mseqs_x_date)\n",
      "File \u001b[1;32mc:\\Users\\cle\\AppData\\Local\\miniforge3\\envs\\test\\lib\\site-packages\\torch\\nn\\modules\\module.py:1190\u001b[0m, in \u001b[0;36mModule._call_impl\u001b[1;34m(self, *input, **kwargs)\u001b[0m\n\u001b[0;32m   1186\u001b[0m \u001b[39m# If we don't have any hooks, we want to skip the rest of the logic in\u001b[39;00m\n\u001b[0;32m   1187\u001b[0m \u001b[39m# this function, and just call forward.\u001b[39;00m\n\u001b[0;32m   1188\u001b[0m \u001b[39mif\u001b[39;00m \u001b[39mnot\u001b[39;00m (\u001b[39mself\u001b[39m\u001b[39m.\u001b[39m_backward_hooks \u001b[39mor\u001b[39;00m \u001b[39mself\u001b[39m\u001b[39m.\u001b[39m_forward_hooks \u001b[39mor\u001b[39;00m \u001b[39mself\u001b[39m\u001b[39m.\u001b[39m_forward_pre_hooks \u001b[39mor\u001b[39;00m _global_backward_hooks\n\u001b[0;32m   1189\u001b[0m         \u001b[39mor\u001b[39;00m _global_forward_hooks \u001b[39mor\u001b[39;00m _global_forward_pre_hooks):\n\u001b[1;32m-> 1190\u001b[0m     \u001b[39mreturn\u001b[39;00m forward_call(\u001b[39m*\u001b[39m\u001b[39minput\u001b[39m, \u001b[39m*\u001b[39m\u001b[39m*\u001b[39mkwargs)\n\u001b[0;32m   1191\u001b[0m \u001b[39m# Do not call functions when jit is used\u001b[39;00m\n\u001b[0;32m   1192\u001b[0m full_backward_hooks, non_full_backward_hooks \u001b[39m=\u001b[39m [], []\n",
      "File \u001b[1;32md:\\srl_other_models\\model\\embed.py:107\u001b[0m, in \u001b[0;36mDataEmbedding.forward\u001b[1;34m(self, x, x_mark)\u001b[0m\n\u001b[0;32m    106\u001b[0m \u001b[39mdef\u001b[39;00m \u001b[39mforward\u001b[39m(\u001b[39mself\u001b[39m, x, x_mark):\n\u001b[1;32m--> 107\u001b[0m     x \u001b[39m=\u001b[39m \u001b[39mself\u001b[39;49m\u001b[39m.\u001b[39;49mvalue_embedding(x) \u001b[39m+\u001b[39m \u001b[39mself\u001b[39m\u001b[39m.\u001b[39mposition_embedding(x) \u001b[39m+\u001b[39m \u001b[39mself\u001b[39m\u001b[39m.\u001b[39mtemporal_embedding(x_mark)\n\u001b[0;32m    109\u001b[0m     \u001b[39mreturn\u001b[39;00m \u001b[39mself\u001b[39m\u001b[39m.\u001b[39mdropout(x)\n",
      "File \u001b[1;32mc:\\Users\\cle\\AppData\\Local\\miniforge3\\envs\\test\\lib\\site-packages\\torch\\nn\\modules\\module.py:1190\u001b[0m, in \u001b[0;36mModule._call_impl\u001b[1;34m(self, *input, **kwargs)\u001b[0m\n\u001b[0;32m   1186\u001b[0m \u001b[39m# If we don't have any hooks, we want to skip the rest of the logic in\u001b[39;00m\n\u001b[0;32m   1187\u001b[0m \u001b[39m# this function, and just call forward.\u001b[39;00m\n\u001b[0;32m   1188\u001b[0m \u001b[39mif\u001b[39;00m \u001b[39mnot\u001b[39;00m (\u001b[39mself\u001b[39m\u001b[39m.\u001b[39m_backward_hooks \u001b[39mor\u001b[39;00m \u001b[39mself\u001b[39m\u001b[39m.\u001b[39m_forward_hooks \u001b[39mor\u001b[39;00m \u001b[39mself\u001b[39m\u001b[39m.\u001b[39m_forward_pre_hooks \u001b[39mor\u001b[39;00m _global_backward_hooks\n\u001b[0;32m   1189\u001b[0m         \u001b[39mor\u001b[39;00m _global_forward_hooks \u001b[39mor\u001b[39;00m _global_forward_pre_hooks):\n\u001b[1;32m-> 1190\u001b[0m     \u001b[39mreturn\u001b[39;00m forward_call(\u001b[39m*\u001b[39m\u001b[39minput\u001b[39m, \u001b[39m*\u001b[39m\u001b[39m*\u001b[39mkwargs)\n\u001b[0;32m   1191\u001b[0m \u001b[39m# Do not call functions when jit is used\u001b[39;00m\n\u001b[0;32m   1192\u001b[0m full_backward_hooks, non_full_backward_hooks \u001b[39m=\u001b[39m [], []\n",
      "File \u001b[1;32md:\\srl_other_models\\model\\embed.py:37\u001b[0m, in \u001b[0;36mTokenEmbedding.forward\u001b[1;34m(self, x)\u001b[0m\n\u001b[0;32m     36\u001b[0m \u001b[39mdef\u001b[39;00m \u001b[39mforward\u001b[39m(\u001b[39mself\u001b[39m, x):\n\u001b[1;32m---> 37\u001b[0m     x \u001b[39m=\u001b[39m \u001b[39mself\u001b[39m\u001b[39m.\u001b[39mtokenConv(x\u001b[39m.\u001b[39;49mpermute(\u001b[39m0\u001b[39m, \u001b[39m2\u001b[39m, \u001b[39m1\u001b[39m))\u001b[39m.\u001b[39mtranspose(\u001b[39m1\u001b[39m,\u001b[39m2\u001b[39m)\n\u001b[0;32m     38\u001b[0m     \u001b[39mreturn\u001b[39;00m x\n",
      "\u001b[1;31mAttributeError\u001b[0m: 'list' object has no attribute 'permute'"
     ]
    }
   ],
   "source": [
    "data_emb(data.seqs_x, data.seqs_x_date)"
   ]
  },
  {
   "cell_type": "code",
   "execution_count": null,
   "metadata": {},
   "outputs": [],
   "source": []
  },
  {
   "cell_type": "code",
   "execution_count": 13,
   "metadata": {},
   "outputs": [
    {
     "data": {
      "text/plain": [
       "[50, 90, 170, 230, 310, 330]"
      ]
     },
     "execution_count": 13,
     "metadata": {},
     "output_type": "execute_result"
    }
   ],
   "source": []
  },
  {
   "cell_type": "code",
   "execution_count": 14,
   "metadata": {},
   "outputs": [
    {
     "data": {
      "text/plain": [
       "[0, 50, 90, 170, 230, 310, 330]"
      ]
     },
     "execution_count": 14,
     "metadata": {},
     "output_type": "execute_result"
    }
   ],
   "source": [
    "widths = [50, 40, 80, 60, 80, 20, 50]\n",
    "\n"
   ]
  },
  {
   "cell_type": "code",
   "execution_count": null,
   "metadata": {},
   "outputs": [],
   "source": [
    "['deepskyblue' if bid <= 22 else 'gray' for bid in capacity_bids]"
   ]
  },
  {
   "cell_type": "code",
   "execution_count": 29,
   "metadata": {},
   "outputs": [
    {
     "data": {
      "text/plain": [
       "300"
      ]
     },
     "execution_count": 29,
     "metadata": {},
     "output_type": "execute_result"
    }
   ],
   "source": [
    "np.sum(widths[:5])"
   ]
  },
  {
   "cell_type": "code",
   "execution_count": 67,
   "metadata": {},
   "outputs": [],
   "source": [
    "data['left_capacity'] = [0] + np.cumsum(data['widths'][:-1]).tolist()"
   ]
  },
  {
   "cell_type": "code",
   "execution_count": 104,
   "metadata": {},
   "outputs": [
    {
     "data": {
      "text/html": [
       "<div>\n",
       "<style scoped>\n",
       "    .dataframe tbody tr th:only-of-type {\n",
       "        vertical-align: middle;\n",
       "    }\n",
       "\n",
       "    .dataframe tbody tr th {\n",
       "        vertical-align: top;\n",
       "    }\n",
       "\n",
       "    .dataframe thead th {\n",
       "        text-align: right;\n",
       "    }\n",
       "</style>\n",
       "<table border=\"1\" class=\"dataframe\">\n",
       "  <thead>\n",
       "    <tr style=\"text-align: right;\">\n",
       "      <th></th>\n",
       "      <th>widths</th>\n",
       "      <th>capacity_bids</th>\n",
       "      <th>energy_bids</th>\n",
       "      <th>left_capacity</th>\n",
       "      <th>left_energy</th>\n",
       "    </tr>\n",
       "  </thead>\n",
       "  <tbody>\n",
       "    <tr>\n",
       "      <th>0</th>\n",
       "      <td>50</td>\n",
       "      <td>5</td>\n",
       "      <td>14</td>\n",
       "      <td>0</td>\n",
       "      <td>180</td>\n",
       "    </tr>\n",
       "    <tr>\n",
       "      <th>1</th>\n",
       "      <td>40</td>\n",
       "      <td>7</td>\n",
       "      <td>3</td>\n",
       "      <td>50</td>\n",
       "      <td>0</td>\n",
       "    </tr>\n",
       "    <tr>\n",
       "      <th>2</th>\n",
       "      <td>120</td>\n",
       "      <td>12</td>\n",
       "      <td>12</td>\n",
       "      <td>90</td>\n",
       "      <td>60</td>\n",
       "    </tr>\n",
       "    <tr>\n",
       "      <th>3</th>\n",
       "      <td>60</td>\n",
       "      <td>18</td>\n",
       "      <td>20</td>\n",
       "      <td>210</td>\n",
       "      <td>230</td>\n",
       "    </tr>\n",
       "    <tr>\n",
       "      <th>4</th>\n",
       "      <td>80</td>\n",
       "      <td>22</td>\n",
       "      <td>24</td>\n",
       "      <td>270</td>\n",
       "      <td>340</td>\n",
       "    </tr>\n",
       "    <tr>\n",
       "      <th>5</th>\n",
       "      <td>20</td>\n",
       "      <td>30</td>\n",
       "      <td>8</td>\n",
       "      <td>350</td>\n",
       "      <td>40</td>\n",
       "    </tr>\n",
       "    <tr>\n",
       "      <th>6</th>\n",
       "      <td>50</td>\n",
       "      <td>33</td>\n",
       "      <td>22</td>\n",
       "      <td>370</td>\n",
       "      <td>290</td>\n",
       "    </tr>\n",
       "  </tbody>\n",
       "</table>\n",
       "</div>"
      ],
      "text/plain": [
       "   widths  capacity_bids  energy_bids  left_capacity  left_energy\n",
       "0      50              5           14              0          180\n",
       "1      40              7            3             50            0\n",
       "2     120             12           12             90           60\n",
       "3      60             18           20            210          230\n",
       "4      80             22           24            270          340\n",
       "5      20             30            8            350           40\n",
       "6      50             33           22            370          290"
      ]
     },
     "execution_count": 104,
     "metadata": {},
     "output_type": "execute_result"
    }
   ],
   "source": [
    "data = data.sort_values('capacity_bids')\n",
    "data"
   ]
  },
  {
   "cell_type": "code",
   "execution_count": 110,
   "metadata": {},
   "outputs": [],
   "source": [
    "df_ = data[data['left_capacity'] < demand]\n",
    "\n",
    "# pd.concat([df, ])"
   ]
  },
  {
   "cell_type": "code",
   "execution_count": 120,
   "metadata": {},
   "outputs": [
    {
     "data": {
      "text/plain": [
       "50"
      ]
     },
     "execution_count": 120,
     "metadata": {},
     "output_type": "execute_result"
    }
   ],
   "source": [
    "df_['widths'].iloc[-1] - (demand - df_['left_capacity'].iloc[-1])"
   ]
  },
  {
   "cell_type": "code",
   "execution_count": 118,
   "metadata": {},
   "outputs": [
    {
     "data": {
      "text/html": [
       "<div>\n",
       "<style scoped>\n",
       "    .dataframe tbody tr th:only-of-type {\n",
       "        vertical-align: middle;\n",
       "    }\n",
       "\n",
       "    .dataframe tbody tr th {\n",
       "        vertical-align: top;\n",
       "    }\n",
       "\n",
       "    .dataframe thead th {\n",
       "        text-align: right;\n",
       "    }\n",
       "</style>\n",
       "<table border=\"1\" class=\"dataframe\">\n",
       "  <thead>\n",
       "    <tr style=\"text-align: right;\">\n",
       "      <th></th>\n",
       "      <th>widths</th>\n",
       "      <th>capacity_bids</th>\n",
       "      <th>energy_bids</th>\n",
       "      <th>left_capacity</th>\n",
       "      <th>left_energy</th>\n",
       "    </tr>\n",
       "  </thead>\n",
       "  <tbody>\n",
       "    <tr>\n",
       "      <th>0</th>\n",
       "      <td>50</td>\n",
       "      <td>5</td>\n",
       "      <td>14</td>\n",
       "      <td>0</td>\n",
       "      <td>180</td>\n",
       "    </tr>\n",
       "    <tr>\n",
       "      <th>1</th>\n",
       "      <td>40</td>\n",
       "      <td>7</td>\n",
       "      <td>3</td>\n",
       "      <td>50</td>\n",
       "      <td>0</td>\n",
       "    </tr>\n",
       "    <tr>\n",
       "      <th>2</th>\n",
       "      <td>120</td>\n",
       "      <td>12</td>\n",
       "      <td>12</td>\n",
       "      <td>90</td>\n",
       "      <td>60</td>\n",
       "    </tr>\n",
       "    <tr>\n",
       "      <th>3</th>\n",
       "      <td>60</td>\n",
       "      <td>18</td>\n",
       "      <td>20</td>\n",
       "      <td>210</td>\n",
       "      <td>230</td>\n",
       "    </tr>\n",
       "    <tr>\n",
       "      <th>4</th>\n",
       "      <td>80</td>\n",
       "      <td>22</td>\n",
       "      <td>24</td>\n",
       "      <td>270</td>\n",
       "      <td>340</td>\n",
       "    </tr>\n",
       "  </tbody>\n",
       "</table>\n",
       "</div>"
      ],
      "text/plain": [
       "   widths  capacity_bids  energy_bids  left_capacity  left_energy\n",
       "0      50              5           14              0          180\n",
       "1      40              7            3             50            0\n",
       "2     120             12           12             90           60\n",
       "3      60             18           20            210          230\n",
       "4      80             22           24            270          340"
      ]
     },
     "execution_count": 118,
     "metadata": {},
     "output_type": "execute_result"
    }
   ],
   "source": [
    "df_"
   ]
  },
  {
   "cell_type": "code",
   "execution_count": 249,
   "metadata": {},
   "outputs": [],
   "source": [
    "capacity_bids = [5, 7, 12, 18, 22, 30, 33]\n",
    "energy_bids = [14, 28, 12, 20, 16, 8, 5]\n",
    "widths = [50, 40, 120, 60, 80, 20, 50]\n",
    "names = ['A', 'B', 'C', 'D', 'E', 'F', 'G']\n",
    "demand = 250\n",
    "\n",
    "data = {\n",
    "    'names': names,\n",
    "    'widths':widths,\n",
    "    'capacity_bids':capacity_bids,\n",
    "    'energy_bids':energy_bids,\n",
    "    \n",
    "}\n",
    "\n",
    "data = pd.DataFrame(data)\n",
    "data = data.sort_values('capacity_bids')\n",
    "data['left_capacity'] = [0] + np.cumsum(data['widths'].iloc[:-1]).tolist()\n",
    "data = data.sort_values('energy_bids')\n",
    "data['left_energy'] = [0] + np.cumsum(data['widths'].iloc[:-1]).tolist()"
   ]
  },
  {
   "cell_type": "code",
   "execution_count": 296,
   "metadata": {},
   "outputs": [
    {
     "name": "stderr",
     "output_type": "stream",
     "text": [
      "C:\\Users\\cle\\AppData\\Local\\Temp\\ipykernel_7488\\1044562159.py:9: SettingWithCopyWarning: \n",
      "A value is trying to be set on a copy of a slice from a DataFrame\n",
      "\n",
      "See the caveats in the documentation: https://pandas.pydata.org/pandas-docs/stable/user_guide/indexing.html#returning-a-view-versus-a-copy\n",
      "  df_small['widths'].iloc[-1] = demand - df_small['left_capacity'].iloc[-1]\n",
      "C:\\Users\\cle\\AppData\\Local\\Temp\\ipykernel_7488\\1044562159.py:48: MatplotlibDeprecationWarning: hatch must consist of a string of \"*+-./OX\\ox|\" or None, but found the following invalid values \" \". Passing invalid values is deprecated since 3.4 and will become an error in 3.7.\n",
      "  plt.bar(data_['left_capacity'], data_['capacity_bids'], width = data_['widths'], hatch=pattern, color='white',\n",
      "No artists with labels found to put in legend.  Note that artists whose label start with an underscore are ignored when legend() is called with no argument.\n",
      "C:\\Users\\cle\\AppData\\Local\\Temp\\ipykernel_7488\\1044562159.py:62: MatplotlibDeprecationWarning: hatch must consist of a string of \"*+-./OX\\ox|\" or None, but found the following invalid values \" \". Passing invalid values is deprecated since 3.4 and will become an error in 3.7.\n",
      "  legend_handles = [mpatches.Patch(hatch='////', fill=False), mpatches.Patch(hatch=' ', fill=False)]\n"
     ]
    },
    {
     "data": {
      "image/png": "[encoded data removed]",
      "text/plain": [
       "<Figure size 1000x400 with 1 Axes>"
      ]
     },
     "metadata": {},
     "output_type": "display_data"
    }
   ],
   "source": [
    "\n",
    "# CAPACITY PRICE GRAPH\n",
    "\n",
    "data_ = data.sort_values('capacity_bids')\n",
    "\n",
    "df_small = data_[data_['left_capacity'] < demand]\n",
    "\n",
    "df_large = data_[data_['left_capacity'] > demand]\n",
    "\n",
    "df_small['widths'].iloc[-1] = demand - df_small['left_capacity'].iloc[-1]\n",
    "\n",
    "add_row = dict(\n",
    "    widths=[(df_large['left_capacity'].iloc[0] - demand)],\n",
    "    capacity_bids=[df_small['capacity_bids'].iloc[-1]],\n",
    "    energy_bids=[df_small['energy_bids'].iloc[-1]],\n",
    "    left_capacity=[demand],\n",
    "    left_energy=[df_small['left_energy'].iloc[-1]],\n",
    "    names=[df_small['names'].iloc[-1]],\n",
    ")\n",
    "\n",
    "add_row = pd.DataFrame(add_row)\n",
    "\n",
    "# upper_row = dict(\n",
    "#     widths=[(df_['left_capacity'].iloc[0] - demand)],\n",
    "#     capacity_bids=[df_['capacity_bids'].iloc[0]],\n",
    "#     energy_bids=[df_['energy_bids'].iloc[0]],\n",
    "#     left_capacity=[demand],\n",
    "#     left_energy=[df_['left_energy'].iloc[0]],\n",
    "# )\n",
    "\n",
    "data_ = pd.concat([df_small, add_row, df_large], ignore_index=True)\n",
    "\n",
    "# -------------------------------------------------------------------\n",
    "\n",
    "import seaborn as sns\n",
    "import matplotlib.pyplot as plt\n",
    "import matplotlib.patches as mpatches\n",
    "\n",
    "# capacity_bids = [5, 7, 12, 18, 22, 22, 30, 33]\n",
    "# widths = [50, 40, 120, 60, 30, 50, 20, 50]\n",
    "# left = [0] + np.cumsum(widths[:-1]).tolist()\n",
    "\n",
    "data_ = data_.sort_values('capacity_bids')\n",
    "\n",
    "pattern = ['///' if np.sum(data_['widths'].iloc[:i]) < demand else ' ' for i in range(len(data_))]\n",
    "\n",
    "fig, ax = plt.subplots(figsize=(10, 4), dpi=100)\n",
    "\n",
    "plt.bar(data_['left_capacity'], data_['capacity_bids'], width = data_['widths'], hatch=pattern, color='white',\n",
    "alpha = 1, align='edge', edgecolor = 'k', linewidth = 2)\n",
    "\n",
    "plt.axvline(x=demand, color='r', linewidth = 2)\n",
    "\n",
    "plt.margins(x=0.01, tight=True)\n",
    "plt.legend()\n",
    "# color=('orange','green','blue')\n",
    "\n",
    "ax.set_xlabel('Reserve capacity (MW)')\n",
    "ax.set_ylabel('Price (€/MW)')\n",
    "ax.set_ylim([0, 35])\n",
    "\n",
    "legend_labels = ['Won aFRR capacity auction', 'Lost aFRR capacity auction']\n",
    "legend_handles = [mpatches.Patch(hatch='////', fill=False), mpatches.Patch(hatch=' ', fill=False)]\n",
    "ax.legend(legend_handles, legend_labels)\n",
    "\n",
    "ax.spines['top'].set_visible(False)\n",
    "ax.spines['right'].set_visible(False)"
   ]
  },
  {
   "cell_type": "code",
   "execution_count": 297,
   "metadata": {},
   "outputs": [
    {
     "name": "stderr",
     "output_type": "stream",
     "text": [
      "C:\\Users\\cle\\AppData\\Local\\Temp\\ipykernel_7488\\4201294656.py:9: SettingWithCopyWarning: \n",
      "A value is trying to be set on a copy of a slice from a DataFrame\n",
      "\n",
      "See the caveats in the documentation: https://pandas.pydata.org/pandas-docs/stable/user_guide/indexing.html#returning-a-view-versus-a-copy\n",
      "  df_small['widths'].iloc[-1] = demand - df_small['left_energy'].iloc[-1]\n",
      "C:\\Users\\cle\\AppData\\Local\\Temp\\ipykernel_7488\\4201294656.py:50: MatplotlibDeprecationWarning: hatch must consist of a string of \"*+-./OX\\ox|\" or None, but found the following invalid values \" \". Passing invalid values is deprecated since 3.4 and will become an error in 3.7.\n",
      "  plt.bar(data_['left_energy'], data_['energy_bids'], width = data_['widths'], color=color, hatch=patterns,\n",
      "No artists with labels found to put in legend.  Note that artists whose label start with an underscore are ignored when legend() is called with no argument.\n",
      "C:\\Users\\cle\\AppData\\Local\\Temp\\ipykernel_7488\\4201294656.py:64: MatplotlibDeprecationWarning: hatch must consist of a string of \"*+-./OX\\ox|\" or None, but found the following invalid values \" \". Passing invalid values is deprecated since 3.4 and will become an error in 3.7.\n",
      "  legend_handles = [mpatches.Patch(color='orange'), mpatches.Patch(color='gray'), mpatches.Patch(hatch='////', fill=False), mpatches.Patch(hatch=' ', fill=False)]\n"
     ]
    },
    {
     "data": {
      "image/png": "[encoded data removed]",
      "text/plain": [
       "<Figure size 1000x400 with 1 Axes>"
      ]
     },
     "metadata": {},
     "output_type": "display_data"
    }
   ],
   "source": [
    "\n",
    "# energy PRICE GRAPH\n",
    "\n",
    "data_ = data.sort_values('energy_bids')\n",
    "\n",
    "df_small = data_[data_['left_energy'] < demand]\n",
    "\n",
    "df_large = data_[data_['left_energy'] > demand]\n",
    "\n",
    "df_small['widths'].iloc[-1] = demand - df_small['left_energy'].iloc[-1]\n",
    "\n",
    "add_row = dict(\n",
    "    widths=[(df_large['left_energy'].iloc[0] - demand)],\n",
    "    capacity_bids=[df_small['capacity_bids'].iloc[-1]],\n",
    "    energy_bids=[df_small['energy_bids'].iloc[-1]],\n",
    "    left_energy=[demand],\n",
    "    left_capacity=[df_small['left_capacity'].iloc[-1]],\n",
    "    names=[df_small['names'].iloc[-1]],\n",
    ")\n",
    "\n",
    "add_row = pd.DataFrame(add_row)\n",
    "\n",
    "# upper_row = dict(\n",
    "#     widths=[(df_['left_energy'].iloc[0] - demand)],\n",
    "#     energy_bids=[df_['energy_bids'].iloc[0]],\n",
    "#     energy_bids=[df_['energy_bids'].iloc[0]],\n",
    "#     left_energy=[demand],\n",
    "#     left_energy=[df_['left_energy'].iloc[0]],\n",
    "# )\n",
    "\n",
    "data_ = pd.concat([df_small, add_row, df_large], ignore_index=True)\n",
    "\n",
    "# -------------------------------------------------------------------\n",
    "\n",
    "import seaborn as sns\n",
    "import matplotlib.pyplot as plt\n",
    "import matplotlib.patches as mpatches\n",
    "\n",
    "# energy_bids = [5, 7, 12, 18, 22, 22, 30, 33]\n",
    "# widths = [50, 40, 120, 60, 30, 50, 20, 50]\n",
    "# left = [0] + np.cumsum(widths[:-1]).tolist()\n",
    "\n",
    "data_ = data_.sort_values('energy_bids')\n",
    "\n",
    "color = ['orange' if np.sum(data_['widths'].iloc[:i]) < demand else 'gray' for i in range(len(data_))]\n",
    "\n",
    "patterns =  ['///' if name in ['A', 'B', 'C', 'D'] else ' ' for name in data_['names']]\n",
    "\n",
    "fig, ax = plt.subplots(figsize=(10, 4), dpi=100)\n",
    "\n",
    "plt.bar(data_['left_energy'], data_['energy_bids'], width = data_['widths'], color=color, hatch=patterns,\n",
    "alpha = 1, align='edge', edgecolor = 'k', linewidth = 2)\n",
    "\n",
    "plt.axvline(x=demand, color='r', linewidth = 2)\n",
    "\n",
    "plt.margins(x=0.01, tight=True)\n",
    "plt.legend()\n",
    "# color=('orange','green','blue')\n",
    "\n",
    "ax.set_xlabel('Reserve energy (MW)')\n",
    "ax.set_ylabel('Price (€/MW)')\n",
    "ax.set_ylim([0, 35])\n",
    "\n",
    "legend_labels = ['aFRR activated', 'aFRR not activated', 'Won aFRR capacity auction', 'Lost aFRR capacity auction']\n",
    "legend_handles = [mpatches.Patch(color='orange'), mpatches.Patch(color='gray'), mpatches.Patch(hatch='////', fill=False), mpatches.Patch(hatch=' ', fill=False)]\n",
    "ax.legend(legend_handles, legend_labels)\n",
    "\n",
    "ax.spines['top'].set_visible(False)\n",
    "ax.spines['right'].set_visible(False)"
   ]
  },
  {
   "cell_type": "code",
   "execution_count": null,
   "metadata": {},
   "outputs": [],
   "source": [
    "xlim([0, 30])\n",
    "\n",
    "legend_labels = ['aFRR activated', 'aFRR not activated', 'Won aFRR capacity auction', 'Lost aFRR capacity auction']\n",
    "legend_handles = [mpatches.Patch(color='orange'), mpatches.Patch(color='gray'), mpatches.Patch(hatch='////', fill=False), mpatches.Patch(hatch=' ', fill=False)]\n",
    "ax.legend(legend_handles, legend_labels)\n",
    "\n",
    "ax.spines['top'].set_visible(False)\n",
    "ax.spines['right'].set_visible(False)"
   ]
  },
  {
   "cell_type": "code",
   "execution_count": 263,
   "metadata": {},
   "outputs": [
    {
     "data": {
      "text/html": [
       "<div>\n",
       "<style scoped>\n",
       "    .dataframe tbody tr th:only-of-type {\n",
       "        vertical-align: middle;\n",
       "    }\n",
       "\n",
       "    .dataframe tbody tr th {\n",
       "        vertical-align: top;\n",
       "    }\n",
       "\n",
       "    .dataframe thead th {\n",
       "        text-align: right;\n",
       "    }\n",
       "</style>\n",
       "<table border=\"1\" class=\"dataframe\">\n",
       "  <thead>\n",
       "    <tr style=\"text-align: right;\">\n",
       "      <th></th>\n",
       "      <th>names</th>\n",
       "      <th>widths</th>\n",
       "      <th>capacity_bids</th>\n",
       "      <th>energy_bids</th>\n",
       "      <th>left_capacity</th>\n",
       "      <th>left_energy</th>\n",
       "    </tr>\n",
       "  </thead>\n",
       "  <tbody>\n",
       "    <tr>\n",
       "      <th>0</th>\n",
       "      <td>G</td>\n",
       "      <td>50</td>\n",
       "      <td>33</td>\n",
       "      <td>5</td>\n",
       "      <td>370</td>\n",
       "      <td>0</td>\n",
       "    </tr>\n",
       "    <tr>\n",
       "      <th>1</th>\n",
       "      <td>F</td>\n",
       "      <td>20</td>\n",
       "      <td>30</td>\n",
       "      <td>8</td>\n",
       "      <td>350</td>\n",
       "      <td>50</td>\n",
       "    </tr>\n",
       "    <tr>\n",
       "      <th>2</th>\n",
       "      <td>C</td>\n",
       "      <td>120</td>\n",
       "      <td>12</td>\n",
       "      <td>12</td>\n",
       "      <td>90</td>\n",
       "      <td>70</td>\n",
       "    </tr>\n",
       "    <tr>\n",
       "      <th>3</th>\n",
       "      <td>A</td>\n",
       "      <td>50</td>\n",
       "      <td>5</td>\n",
       "      <td>14</td>\n",
       "      <td>0</td>\n",
       "      <td>190</td>\n",
       "    </tr>\n",
       "    <tr>\n",
       "      <th>4</th>\n",
       "      <td>E</td>\n",
       "      <td>10</td>\n",
       "      <td>22</td>\n",
       "      <td>16</td>\n",
       "      <td>270</td>\n",
       "      <td>240</td>\n",
       "    </tr>\n",
       "    <tr>\n",
       "      <th>5</th>\n",
       "      <td>E</td>\n",
       "      <td>70</td>\n",
       "      <td>22</td>\n",
       "      <td>16</td>\n",
       "      <td>270</td>\n",
       "      <td>250</td>\n",
       "    </tr>\n",
       "    <tr>\n",
       "      <th>6</th>\n",
       "      <td>D</td>\n",
       "      <td>60</td>\n",
       "      <td>18</td>\n",
       "      <td>20</td>\n",
       "      <td>210</td>\n",
       "      <td>320</td>\n",
       "    </tr>\n",
       "    <tr>\n",
       "      <th>7</th>\n",
       "      <td>B</td>\n",
       "      <td>40</td>\n",
       "      <td>7</td>\n",
       "      <td>28</td>\n",
       "      <td>50</td>\n",
       "      <td>380</td>\n",
       "    </tr>\n",
       "  </tbody>\n",
       "</table>\n",
       "</div>"
      ],
      "text/plain": [
       "  names  widths  capacity_bids  energy_bids  left_capacity  left_energy\n",
       "0     G      50             33            5            370            0\n",
       "1     F      20             30            8            350           50\n",
       "2     C     120             12           12             90           70\n",
       "3     A      50              5           14              0          190\n",
       "4     E      10             22           16            270          240\n",
       "5     E      70             22           16            270          250\n",
       "6     D      60             18           20            210          320\n",
       "7     B      40              7           28             50          380"
      ]
     },
     "execution_count": 263,
     "metadata": {},
     "output_type": "execute_result"
    }
   ],
   "source": [
    "data_"
   ]
  },
  {
   "cell_type": "code",
   "execution_count": 1,
   "metadata": {},
   "outputs": [],
   "source": [
    "import pandas as pd\n",
    "import numpy as np\n",
    "\n",
    "def series_to_supervised(data, n_in=1, n_out=1, dropnan=True):\n",
    "    \"\"\"\n",
    "    Frame a time series as a supervised learning dataset.\n",
    "    Arguments:\n",
    "        data: Sequence of observations as a list or NumPy array.\n",
    "        n_in: Number of lag observations as input (X).\n",
    "        n_out: Number of observations as output (y).\n",
    "        dropnan: Boolean whether or not to drop rows with NaN values.\n",
    "    Returns:\n",
    "        Pandas DataFrame of series framed for supervised learning.\n",
    "    \"\"\"\n",
    "    n_vars = 1 if type(data) is list else data.shape[1]\n",
    "    df = pd.DataFrame(data)\n",
    "    cols, names = list(), list()\n",
    "    # input sequence (t-n, ... t-1)\n",
    "    for i in range(n_in, 0, -1):\n",
    "        cols.append(df.shift(i))\n",
    "        names += [('var%d(t-%d)' % (j+1, i)) for j in range(n_vars)]\n",
    "    # forecast sequence (t, t+1, ... t+n)\n",
    "    for i in range(0, n_out):\n",
    "        cols.append(df.shift(-i))\n",
    "        if i == 0:\n",
    "            names += [('var%d(t)' % (j+1)) for j in range(n_vars)]\n",
    "        else:\n",
    "            names += [('var%d(t+%d)' % (j+1, i)) for j in range(n_vars)]\n",
    "    # put it all together\n",
    "    agg = pd.concat(cols, axis=1)\n",
    "    agg.columns = names\n",
    "    # drop rows with NaN values\n",
    "    if dropnan:\n",
    "        agg.dropna(inplace=True)\n",
    "    return agg\n",
    "\n",
    "# specify the number of lag hours\n",
    "n_hours = 3\n",
    "n_features = 4\n",
    "\n",
    "# let's assume you have your multivariate series in a DataFrame called \"dataset\"\n",
    "# it should be of shape [100, 4] (since you have 4 variables A,B,C,D)\n",
    "dataset = pd.DataFrame(np.random.rand(100,4))  # This is a placeholder\n",
    "\n",
    "# frame as supervised learning\n",
    "reframed = series_to_supervised(dataset, n_hours, 1)\n"
   ]
  },
  {
   "cell_type": "code",
   "execution_count": 3,
   "metadata": {},
   "outputs": [
    {
     "data": {
      "text/html": [
       "<div>\n",
       "<style scoped>\n",
       "    .dataframe tbody tr th:only-of-type {\n",
       "        vertical-align: middle;\n",
       "    }\n",
       "\n",
       "    .dataframe tbody tr th {\n",
       "        vertical-align: top;\n",
       "    }\n",
       "\n",
       "    .dataframe thead th {\n",
       "        text-align: right;\n",
       "    }\n",
       "</style>\n",
       "<table border=\"1\" class=\"dataframe\">\n",
       "  <thead>\n",
       "    <tr style=\"text-align: right;\">\n",
       "      <th></th>\n",
       "      <th>var1(t-3)</th>\n",
       "      <th>var2(t-3)</th>\n",
       "      <th>var3(t-3)</th>\n",
       "      <th>var4(t-3)</th>\n",
       "      <th>var1(t-2)</th>\n",
       "      <th>var2(t-2)</th>\n",
       "      <th>var3(t-2)</th>\n",
       "      <th>var4(t-2)</th>\n",
       "      <th>var1(t-1)</th>\n",
       "      <th>var2(t-1)</th>\n",
       "      <th>var3(t-1)</th>\n",
       "      <th>var4(t-1)</th>\n",
       "      <th>var1(t)</th>\n",
       "      <th>var2(t)</th>\n",
       "      <th>var3(t)</th>\n",
       "      <th>var4(t)</th>\n",
       "    </tr>\n",
       "  </thead>\n",
       "  <tbody>\n",
       "    <tr>\n",
       "      <th>3</th>\n",
       "      <td>0.915814</td>\n",
       "      <td>0.264733</td>\n",
       "      <td>0.491565</td>\n",
       "      <td>0.661953</td>\n",
       "      <td>0.285475</td>\n",
       "      <td>0.871182</td>\n",
       "      <td>0.796624</td>\n",
       "      <td>0.899569</td>\n",
       "      <td>0.436320</td>\n",
       "      <td>0.955654</td>\n",
       "      <td>0.167289</td>\n",
       "      <td>0.480485</td>\n",
       "      <td>0.714760</td>\n",
       "      <td>0.218294</td>\n",
       "      <td>0.536941</td>\n",
       "      <td>0.791024</td>\n",
       "    </tr>\n",
       "    <tr>\n",
       "      <th>4</th>\n",
       "      <td>0.285475</td>\n",
       "      <td>0.871182</td>\n",
       "      <td>0.796624</td>\n",
       "      <td>0.899569</td>\n",
       "      <td>0.436320</td>\n",
       "      <td>0.955654</td>\n",
       "      <td>0.167289</td>\n",
       "      <td>0.480485</td>\n",
       "      <td>0.714760</td>\n",
       "      <td>0.218294</td>\n",
       "      <td>0.536941</td>\n",
       "      <td>0.791024</td>\n",
       "      <td>0.946708</td>\n",
       "      <td>0.822138</td>\n",
       "      <td>0.949654</td>\n",
       "      <td>0.870627</td>\n",
       "    </tr>\n",
       "    <tr>\n",
       "      <th>5</th>\n",
       "      <td>0.436320</td>\n",
       "      <td>0.955654</td>\n",
       "      <td>0.167289</td>\n",
       "      <td>0.480485</td>\n",
       "      <td>0.714760</td>\n",
       "      <td>0.218294</td>\n",
       "      <td>0.536941</td>\n",
       "      <td>0.791024</td>\n",
       "      <td>0.946708</td>\n",
       "      <td>0.822138</td>\n",
       "      <td>0.949654</td>\n",
       "      <td>0.870627</td>\n",
       "      <td>0.139842</td>\n",
       "      <td>0.171687</td>\n",
       "      <td>0.791676</td>\n",
       "      <td>0.726179</td>\n",
       "    </tr>\n",
       "    <tr>\n",
       "      <th>6</th>\n",
       "      <td>0.714760</td>\n",
       "      <td>0.218294</td>\n",
       "      <td>0.536941</td>\n",
       "      <td>0.791024</td>\n",
       "      <td>0.946708</td>\n",
       "      <td>0.822138</td>\n",
       "      <td>0.949654</td>\n",
       "      <td>0.870627</td>\n",
       "      <td>0.139842</td>\n",
       "      <td>0.171687</td>\n",
       "      <td>0.791676</td>\n",
       "      <td>0.726179</td>\n",
       "      <td>0.269055</td>\n",
       "      <td>0.183945</td>\n",
       "      <td>0.646453</td>\n",
       "      <td>0.297306</td>\n",
       "    </tr>\n",
       "    <tr>\n",
       "      <th>7</th>\n",
       "      <td>0.946708</td>\n",
       "      <td>0.822138</td>\n",
       "      <td>0.949654</td>\n",
       "      <td>0.870627</td>\n",
       "      <td>0.139842</td>\n",
       "      <td>0.171687</td>\n",
       "      <td>0.791676</td>\n",
       "      <td>0.726179</td>\n",
       "      <td>0.269055</td>\n",
       "      <td>0.183945</td>\n",
       "      <td>0.646453</td>\n",
       "      <td>0.297306</td>\n",
       "      <td>0.786432</td>\n",
       "      <td>0.940447</td>\n",
       "      <td>0.121369</td>\n",
       "      <td>0.301965</td>\n",
       "    </tr>\n",
       "    <tr>\n",
       "      <th>...</th>\n",
       "      <td>...</td>\n",
       "      <td>...</td>\n",
       "      <td>...</td>\n",
       "      <td>...</td>\n",
       "      <td>...</td>\n",
       "      <td>...</td>\n",
       "      <td>...</td>\n",
       "      <td>...</td>\n",
       "      <td>...</td>\n",
       "      <td>...</td>\n",
       "      <td>...</td>\n",
       "      <td>...</td>\n",
       "      <td>...</td>\n",
       "      <td>...</td>\n",
       "      <td>...</td>\n",
       "      <td>...</td>\n",
       "    </tr>\n",
       "    <tr>\n",
       "      <th>95</th>\n",
       "      <td>0.286335</td>\n",
       "      <td>0.112530</td>\n",
       "      <td>0.692325</td>\n",
       "      <td>0.598991</td>\n",
       "      <td>0.737184</td>\n",
       "      <td>0.734963</td>\n",
       "      <td>0.366849</td>\n",
       "      <td>0.814543</td>\n",
       "      <td>0.816735</td>\n",
       "      <td>0.792402</td>\n",
       "      <td>0.329730</td>\n",
       "      <td>0.804913</td>\n",
       "      <td>0.850807</td>\n",
       "      <td>0.322208</td>\n",
       "      <td>0.968062</td>\n",
       "      <td>0.449785</td>\n",
       "    </tr>\n",
       "    <tr>\n",
       "      <th>96</th>\n",
       "      <td>0.737184</td>\n",
       "      <td>0.734963</td>\n",
       "      <td>0.366849</td>\n",
       "      <td>0.814543</td>\n",
       "      <td>0.816735</td>\n",
       "      <td>0.792402</td>\n",
       "      <td>0.329730</td>\n",
       "      <td>0.804913</td>\n",
       "      <td>0.850807</td>\n",
       "      <td>0.322208</td>\n",
       "      <td>0.968062</td>\n",
       "      <td>0.449785</td>\n",
       "      <td>0.785811</td>\n",
       "      <td>0.420606</td>\n",
       "      <td>0.538073</td>\n",
       "      <td>0.105409</td>\n",
       "    </tr>\n",
       "    <tr>\n",
       "      <th>97</th>\n",
       "      <td>0.816735</td>\n",
       "      <td>0.792402</td>\n",
       "      <td>0.329730</td>\n",
       "      <td>0.804913</td>\n",
       "      <td>0.850807</td>\n",
       "      <td>0.322208</td>\n",
       "      <td>0.968062</td>\n",
       "      <td>0.449785</td>\n",
       "      <td>0.785811</td>\n",
       "      <td>0.420606</td>\n",
       "      <td>0.538073</td>\n",
       "      <td>0.105409</td>\n",
       "      <td>0.907781</td>\n",
       "      <td>0.234193</td>\n",
       "      <td>0.800457</td>\n",
       "      <td>0.637801</td>\n",
       "    </tr>\n",
       "    <tr>\n",
       "      <th>98</th>\n",
       "      <td>0.850807</td>\n",
       "      <td>0.322208</td>\n",
       "      <td>0.968062</td>\n",
       "      <td>0.449785</td>\n",
       "      <td>0.785811</td>\n",
       "      <td>0.420606</td>\n",
       "      <td>0.538073</td>\n",
       "      <td>0.105409</td>\n",
       "      <td>0.907781</td>\n",
       "      <td>0.234193</td>\n",
       "      <td>0.800457</td>\n",
       "      <td>0.637801</td>\n",
       "      <td>0.376827</td>\n",
       "      <td>0.151727</td>\n",
       "      <td>0.253415</td>\n",
       "      <td>0.439581</td>\n",
       "    </tr>\n",
       "    <tr>\n",
       "      <th>99</th>\n",
       "      <td>0.785811</td>\n",
       "      <td>0.420606</td>\n",
       "      <td>0.538073</td>\n",
       "      <td>0.105409</td>\n",
       "      <td>0.907781</td>\n",
       "      <td>0.234193</td>\n",
       "      <td>0.800457</td>\n",
       "      <td>0.637801</td>\n",
       "      <td>0.376827</td>\n",
       "      <td>0.151727</td>\n",
       "      <td>0.253415</td>\n",
       "      <td>0.439581</td>\n",
       "      <td>0.258914</td>\n",
       "      <td>0.330321</td>\n",
       "      <td>0.906756</td>\n",
       "      <td>0.060685</td>\n",
       "    </tr>\n",
       "  </tbody>\n",
       "</table>\n",
       "<p>97 rows × 16 columns</p>\n",
       "</div>"
      ],
      "text/plain": [
       "    var1(t-3)  var2(t-3)  var3(t-3)  var4(t-3)  var1(t-2)  var2(t-2)  \\\n",
       "3    0.915814   0.264733   0.491565   0.661953   0.285475   0.871182   \n",
       "4    0.285475   0.871182   0.796624   0.899569   0.436320   0.955654   \n",
       "5    0.436320   0.955654   0.167289   0.480485   0.714760   0.218294   \n",
       "6    0.714760   0.218294   0.536941   0.791024   0.946708   0.822138   \n",
       "7    0.946708   0.822138   0.949654   0.870627   0.139842   0.171687   \n",
       "..        ...        ...        ...        ...        ...        ...   \n",
       "95   0.286335   0.112530   0.692325   0.598991   0.737184   0.734963   \n",
       "96   0.737184   0.734963   0.366849   0.814543   0.816735   0.792402   \n",
       "97   0.816735   0.792402   0.329730   0.804913   0.850807   0.322208   \n",
       "98   0.850807   0.322208   0.968062   0.449785   0.785811   0.420606   \n",
       "99   0.785811   0.420606   0.538073   0.105409   0.907781   0.234193   \n",
       "\n",
       "    var3(t-2)  var4(t-2)  var1(t-1)  var2(t-1)  var3(t-1)  var4(t-1)  \\\n",
       "3    0.796624   0.899569   0.436320   0.955654   0.167289   0.480485   \n",
       "4    0.167289   0.480485   0.714760   0.218294   0.536941   0.791024   \n",
       "5    0.536941   0.791024   0.946708   0.822138   0.949654   0.870627   \n",
       "6    0.949654   0.870627   0.139842   0.171687   0.791676   0.726179   \n",
       "7    0.791676   0.726179   0.269055   0.183945   0.646453   0.297306   \n",
       "..        ...        ...        ...        ...        ...        ...   \n",
       "95   0.366849   0.814543   0.816735   0.792402   0.329730   0.804913   \n",
       "96   0.329730   0.804913   0.850807   0.322208   0.968062   0.449785   \n",
       "97   0.968062   0.449785   0.785811   0.420606   0.538073   0.105409   \n",
       "98   0.538073   0.105409   0.907781   0.234193   0.800457   0.637801   \n",
       "99   0.800457   0.637801   0.376827   0.151727   0.253415   0.439581   \n",
       "\n",
       "     var1(t)   var2(t)   var3(t)   var4(t)  \n",
       "3   0.714760  0.218294  0.536941  0.791024  \n",
       "4   0.946708  0.822138  0.949654  0.870627  \n",
       "5   0.139842  0.171687  0.791676  0.726179  \n",
       "6   0.269055  0.183945  0.646453  0.297306  \n",
       "7   0.786432  0.940447  0.121369  0.301965  \n",
       "..       ...       ...       ...       ...  \n",
       "95  0.850807  0.322208  0.968062  0.449785  \n",
       "96  0.785811  0.420606  0.538073  0.105409  \n",
       "97  0.907781  0.234193  0.800457  0.637801  \n",
       "98  0.376827  0.151727  0.253415  0.439581  \n",
       "99  0.258914  0.330321  0.906756  0.060685  \n",
       "\n",
       "[97 rows x 16 columns]"
      ]
     },
     "execution_count": 3,
     "metadata": {},
     "output_type": "execute_result"
    }
   ],
   "source": [
    "reframed"
   ]
  },
  {
   "cell_type": "code",
   "execution_count": 4,
   "metadata": {},
   "outputs": [],
   "source": [
    "def objective(loss, pred, true, *kwargs):\n",
    "    match loss:\n",
    "        case \"linex\":\n",
    "            diff = pred - true # this order matters\n",
    "            grad = -(2/linex_weight) * ( np.exp(linex_weight * diff) - 1)\n",
    "            hess = 2 * np.exp(linex_weight * diff)\n",
    "            return grad, hess\n",
    "        \n",
    "        case \"linlin\":\n",
    "            diff = pred - true\n",
    "            weights = np.where(diff >= 0, linlin_weight, 1)\n",
    "            \n",
    "            # Calculate the weighted RMSE\n",
    "            weighted_squared_errors = weights * diff**2\n",
    "            grad = np.where(diff < 0, -linlin_weight, 1-linlin_weight)\n",
    "            hess = np.ones_like(grad)\n",
    "            \n",
    "            return grad, hess\n",
    "                  \n",
    "        case \"w_rmse\":\n",
    "            diff = pred - true\n",
    "            weights = np.where(diff >= 0, w_rmse_weight, 1)\n",
    "            \n",
    "            # Calculate the weighted RMSE\n",
    "            weighted_squared_errors = weights * diff**2\n",
    "            grad = diff * weights\n",
    "            hess = np.ones_like(grad) * weights\n",
    "            \n",
    "            return grad, hess  \n",
    "                \n",
    "        case \"rmse\":\n",
    "            return 'reg:squarederror'\n",
    "        \n"
   ]
  },
  {
   "cell_type": "code",
   "execution_count": 8,
   "metadata": {},
   "outputs": [],
   "source": [
    "import numpy as np\n",
    "\n",
    "loss = \"linlin\"\n",
    "linlin_weight = 2\n",
    "pred = np.array([1, 2, 3, 4])\n",
    "true = np.array([4, 2, 4, 1])"
   ]
  },
  {
   "cell_type": "code",
   "execution_count": 9,
   "metadata": {},
   "outputs": [
    {
     "data": {
      "text/plain": [
       "(array([-2, -1, -2, -1]), array([1, 1, 1, 1]))"
      ]
     },
     "execution_count": 9,
     "metadata": {},
     "output_type": "execute_result"
    }
   ],
   "source": [
    "objective(loss, pred, true, linlin_weight)"
   ]
  }
 ],
 "metadata": {
  "kernelspec": {
   "display_name": "test",
   "language": "python",
   "name": "python3"
  },
  "language_info": {
   "codemirror_mode": {
    "name": "ipython",
    "version": 3
   },
   "file_extension": ".py",
   "mimetype": "text/x-python",
   "name": "python",
   "nbconvert_exporter": "python",
   "pygments_lexer": "ipython3",
   "version": "3.10.6"
  },
  "orig_nbformat": 4
 },
 "nbformat": 4,
 "nbformat_minor": 2
}
