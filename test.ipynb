{
 "cells": [
  {
   "cell_type": "code",
   "execution_count": 1,
   "metadata": {},
   "outputs": [
    {
     "name": "stderr",
     "output_type": "stream",
     "text": [
      "c:\\Users\\cle\\AppData\\Local\\miniforge3\\envs\\test\\lib\\site-packages\\tqdm\\auto.py:22: TqdmWarning: IProgress not found. Please update jupyter and ipywidgets. See https://ipywidgets.readthedocs.io/en/stable/user_install.html\n",
      "  from .autonotebook import tqdm as notebook_tqdm\n"
     ]
    },
    {
     "name": "stdout",
     "output_type": "stream",
     "text": [
      "Args in experiment:\n",
      "Namespace(data='SRL_NEG_00_04', model='xgboost', loss='rmse', w_rmse_weight=5, linex_weight=0.05, linlin_weight=0.1, input_len=30, target_len=1, timestamp='19-07-2023_16-40-56', root_path='data\\\\processed\\\\SRL', data_path='SRL_NEG_00_04.csv', features='S', cols=None, scale='standard', target='capacity_price', freq='d', n_estimators=100, max_depth=3, min_child_weight=1.0, learning_rate=0.1, subsample=1.0, colsample_bytree=1.0, reg_gamma=0.0, reg_alpha=0.0, tune_num_samples=5)\n",
      "\n"
     ]
    }
   ],
   "source": [
    "from data.argparser import args_parsing\n",
    "from datetime import datetime\n",
    "from optuna_objectives import XGB_Optuna\n",
    "from optuna.visualization import plot_pareto_front\n",
    "from optuna.visualization import plot_contour\n",
    "from optuna.visualization import plot_edf\n",
    "from optuna.visualization import plot_intermediate_values\n",
    "from optuna.visualization import plot_optimization_history\n",
    "from optuna.visualization import plot_parallel_coordinate\n",
    "from optuna.visualization import plot_param_importances\n",
    "from optuna.visualization import plot_slice\n",
    "\n",
    "\n",
    "now = datetime.now().strftime(\"%d-%m-%Y_%H-%M-%S\")\n",
    "\n",
    "args = args_parsing()\n",
    "args.loss = \"linlin\""
   ]
  },
  {
   "cell_type": "code",
   "execution_count": 2,
   "metadata": {},
   "outputs": [],
   "source": [
    "search_space = dict(\n",
    "    linex_weight=[0.001, 1, 0.01],\n",
    "    w_rmse_weight=[1.0, 10.0, 0.1],\n",
    "    linlin_weight=[0.01, 0.25, 0.001],\n",
    "    \n",
    "    n_estimators=[50, 150],\n",
    "    min_child_weight=[5, 15],\n",
    "    max_depth=[3, 12],\n",
    "    \n",
    "    learning_rate=[0.05, 0.5],\n",
    "    gamma=[0, 1],\n",
    "    subsample=[0.4, 1.0, 0.05],\n",
    "    colsample_bytree=[0.2, 1.0, 0.05],\n",
    "    \n",
    "    reg_alpha=[1e-5, 1.0],\n",
    "    reg_lambda=[1e-5, 1.0],\n",
    "    )"
   ]
  },
  {
   "cell_type": "code",
   "execution_count": 3,
   "metadata": {},
   "outputs": [
    {
     "name": "stderr",
     "output_type": "stream",
     "text": [
      "[I 2023-07-19 16:40:57,544] A new study created in RDB with name: tune_xgboost_SRL_NEG_00_04_linlin_19-07-2023_16-40-56\n",
      "[I 2023-07-19 16:40:58,295] Trial 0 finished with value: 18.23 and parameters: {'colsample_bytree': 0.8, 'gamma': 0.16838654112510065, 'learning_rate': 0.1420472237597333, 'linlin_weight': 0.034, 'max_depth': 6, 'min_child_weight': 15, 'n_estimators': 72, 'reg_alpha': 0.007148985252278011, 'reg_lambda': 8.379291677846228e-05, 'subsample': 0.7000000000000001}. Best is trial 0 with value: 18.23.\n",
      "[I 2023-07-19 16:40:59,041] Trial 1 finished with value: 327.38 and parameters: {'colsample_bytree': 0.5, 'gamma': 0.1077646441730562, 'learning_rate': 0.29916994334120994, 'linlin_weight': 0.24100000000000002, 'max_depth': 8, 'min_child_weight': 14, 'n_estimators': 106, 'reg_alpha': 0.03839505357046492, 'reg_lambda': 0.3318333089229249, 'subsample': 0.55}. Best is trial 0 with value: 18.23.\n",
      "[I 2023-07-19 16:40:59,856] Trial 2 finished with value: 705.27 and parameters: {'colsample_bytree': 0.4, 'gamma': 0.2760151754039224, 'learning_rate': 0.45670312794722306, 'linlin_weight': 0.134, 'max_depth': 9, 'min_child_weight': 6, 'n_estimators': 105, 'reg_alpha': 0.05281867027828625, 'reg_lambda': 0.0038228655885410804, 'subsample': 0.4}. Best is trial 0 with value: 18.23.\n",
      "[I 2023-07-19 16:41:00,476] Trial 3 finished with value: 323.21 and parameters: {'colsample_bytree': 0.7, 'gamma': 0.9613472103734924, 'learning_rate': 0.48168700681345406, 'linlin_weight': 0.234, 'max_depth': 9, 'min_child_weight': 15, 'n_estimators': 68, 'reg_alpha': 2.090764738031011e-05, 'reg_lambda': 0.0004312769137669365, 'subsample': 0.65}. Best is trial 0 with value: 18.23.\n",
      "[I 2023-07-19 16:41:01,246] Trial 4 finished with value: 54.67 and parameters: {'colsample_bytree': 0.25, 'gamma': 0.4343555813976687, 'learning_rate': 0.2115886298786499, 'linlin_weight': 0.13, 'max_depth': 6, 'min_child_weight': 8, 'n_estimators': 86, 'reg_alpha': 0.19513859477566053, 'reg_lambda': 0.00013946280909010646, 'subsample': 0.7000000000000001}. Best is trial 0 with value: 18.23.\n",
      "[I 2023-07-19 16:41:01,863] Trial 5 finished with value: 26.6 and parameters: {'colsample_bytree': 0.6000000000000001, 'gamma': 0.6544714873475584, 'learning_rate': 0.17962777540730585, 'linlin_weight': 0.08, 'max_depth': 3, 'min_child_weight': 6, 'n_estimators': 103, 'reg_alpha': 0.0014728594673655809, 'reg_lambda': 0.05408756914749739, 'subsample': 0.9}. Best is trial 0 with value: 18.23.\n",
      "[I 2023-07-19 16:41:02,689] Trial 6 finished with value: 47.35 and parameters: {'colsample_bytree': 0.35000000000000003, 'gamma': 0.5666319125667391, 'learning_rate': 0.1532693473226342, 'linlin_weight': 0.113, 'max_depth': 10, 'min_child_weight': 13, 'n_estimators': 136, 'reg_alpha': 0.0035733165348619087, 'reg_lambda': 0.06097011273212014, 'subsample': 1.0}. Best is trial 0 with value: 18.23.\n",
      "[I 2023-07-19 16:41:03,311] Trial 7 finished with value: 361.99 and parameters: {'colsample_bytree': 1.0, 'gamma': 0.741661617691454, 'learning_rate': 0.4208719424606839, 'linlin_weight': 0.23, 'max_depth': 11, 'min_child_weight': 5, 'n_estimators': 89, 'reg_alpha': 0.004938219727107207, 'reg_lambda': 0.18350020159515215, 'subsample': 0.6000000000000001}. Best is trial 0 with value: 18.23.\n",
      "[I 2023-07-19 16:41:04,228] Trial 8 finished with value: 104.54 and parameters: {'colsample_bytree': 0.95, 'gamma': 0.7527104840302151, 'learning_rate': 0.31094344461494683, 'linlin_weight': 0.032, 'max_depth': 9, 'min_child_weight': 7, 'n_estimators': 120, 'reg_alpha': 0.0002584133023735529, 'reg_lambda': 0.00032028801567449903, 'subsample': 0.9500000000000001}. Best is trial 0 with value: 18.23.\n",
      "[I 2023-07-19 16:41:04,925] Trial 9 finished with value: 4447.8 and parameters: {'colsample_bytree': 0.65, 'gamma': 0.38237049094788456, 'learning_rate': 0.40043911088919837, 'linlin_weight': 0.018000000000000002, 'max_depth': 7, 'min_child_weight': 9, 'n_estimators': 116, 'reg_alpha': 0.00014677710567053507, 'reg_lambda': 0.0236145841005606, 'subsample': 0.9500000000000001}. Best is trial 0 with value: 18.23.\n",
      "[I 2023-07-19 16:41:05,793] Trial 10 finished with value: 43.41 and parameters: {'colsample_bytree': 0.8, 'gamma': 0.03712640001880119, 'learning_rate': 0.0886667156066701, 'linlin_weight': 0.17700000000000002, 'max_depth': 4, 'min_child_weight': 11, 'n_estimators': 51, 'reg_alpha': 0.40165573894160195, 'reg_lambda': 1.882655980105037e-05, 'subsample': 0.8}. Best is trial 0 with value: 18.23.\n",
      "[I 2023-07-19 16:41:06,606] Trial 11 finished with value: 11.79 and parameters: {'colsample_bytree': 0.8, 'gamma': 0.21891541155411054, 'learning_rate': 0.06353049990047163, 'linlin_weight': 0.071, 'max_depth': 3, 'min_child_weight': 11, 'n_estimators': 76, 'reg_alpha': 0.0011576164190773, 'reg_lambda': 0.00902637835859786, 'subsample': 0.8}. Best is trial 11 with value: 11.79.\n",
      "[I 2023-07-19 16:41:07,477] Trial 12 finished with value: 8.98 and parameters: {'colsample_bytree': 0.8500000000000001, 'gamma': 0.21848381798773242, 'learning_rate': 0.05076778306533203, 'linlin_weight': 0.061000000000000006, 'max_depth': 5, 'min_child_weight': 11, 'n_estimators': 70, 'reg_alpha': 0.012883299180648502, 'reg_lambda': 0.003485829888003243, 'subsample': 0.8}. Best is trial 12 with value: 8.98.\n",
      "[I 2023-07-19 16:41:08,696] Trial 13 finished with value: 11.57 and parameters: {'colsample_bytree': 0.8500000000000001, 'gamma': 0.2544465872697831, 'learning_rate': 0.05835952244901677, 'linlin_weight': 0.077, 'max_depth': 4, 'min_child_weight': 11, 'n_estimators': 51, 'reg_alpha': 0.022607380863480554, 'reg_lambda': 0.005280383582382554, 'subsample': 0.8}. Best is trial 12 with value: 8.98.\n",
      "[I 2023-07-19 16:41:09,514] Trial 14 finished with value: 11.59 and parameters: {'colsample_bytree': 0.95, 'gamma': 0.31907017059625703, 'learning_rate': 0.0517012419322325, 'linlin_weight': 0.079, 'max_depth': 5, 'min_child_weight': 12, 'n_estimators': 50, 'reg_alpha': 0.025507399903564865, 'reg_lambda': 0.0017118027759327366, 'subsample': 0.8}. Best is trial 12 with value: 8.98.\n",
      "[I 2023-07-19 16:41:10,164] Trial 15 finished with value: 9.73 and parameters: {'colsample_bytree': 0.8500000000000001, 'gamma': 0.026668396424083585, 'learning_rate': 0.10574547305329163, 'linlin_weight': 0.057, 'max_depth': 5, 'min_child_weight': 10, 'n_estimators': 61, 'reg_alpha': 0.14672199495241267, 'reg_lambda': 0.0023776167989217746, 'subsample': 0.8500000000000001}. Best is trial 12 with value: 8.98.\n",
      "[I 2023-07-19 16:41:10,946] Trial 16 finished with value: 8.27 and parameters: {'colsample_bytree': 0.7, 'gamma': 0.034607886166982904, 'learning_rate': 0.11460172164624244, 'linlin_weight': 0.05, 'max_depth': 5, 'min_child_weight': 9, 'n_estimators': 63, 'reg_alpha': 0.1755579712271828, 'reg_lambda': 0.0016841298815670925, 'subsample': 0.8500000000000001}. Best is trial 16 with value: 8.27.\n",
      "[I 2023-07-19 16:41:11,625] Trial 17 finished with value: 26.79 and parameters: {'colsample_bytree': 0.5, 'gamma': 0.12952212965696364, 'learning_rate': 0.11903216198178876, 'linlin_weight': 0.102, 'max_depth': 7, 'min_child_weight': 9, 'n_estimators': 86, 'reg_alpha': 0.558036119743328, 'reg_lambda': 0.0011355333274249806, 'subsample': 0.75}. Best is trial 16 with value: 8.27.\n",
      "[I 2023-07-19 16:41:12,399] Trial 18 finished with value: 81.51 and parameters: {'colsample_bytree': 0.7, 'gamma': 0.005281294158321043, 'learning_rate': 0.22793678852353386, 'linlin_weight': 0.165, 'max_depth': 12, 'min_child_weight': 9, 'n_estimators': 63, 'reg_alpha': 0.7101261116641943, 'reg_lambda': 0.8085658821869627, 'subsample': 0.5}. Best is trial 16 with value: 8.27.\n",
      "[I 2023-07-19 16:41:13,213] Trial 19 finished with value: 75.84 and parameters: {'colsample_bytree': 0.5, 'gamma': 0.1521318060905764, 'learning_rate': 0.11927289237028461, 'linlin_weight': 0.011, 'max_depth': 5, 'min_child_weight': 13, 'n_estimators': 81, 'reg_alpha': 0.1085029654417699, 'reg_lambda': 0.012291476479485591, 'subsample': 0.9}. Best is trial 16 with value: 8.27.\n",
      "[I 2023-07-19 16:41:13,993] Trial 20 finished with value: 34.43 and parameters: {'colsample_bytree': 0.7, 'gamma': 0.36711037095155935, 'learning_rate': 0.17369005651761021, 'linlin_weight': 0.04, 'max_depth': 6, 'min_child_weight': 8, 'n_estimators': 92, 'reg_alpha': 0.013272475717694791, 'reg_lambda': 0.00084571781887237, 'subsample': 1.0}. Best is trial 16 with value: 8.27.\n",
      "[I 2023-07-19 16:41:14,782] Trial 21 finished with value: 9.25 and parameters: {'colsample_bytree': 0.9000000000000001, 'gamma': 0.01113247087946384, 'learning_rate': 0.08733687986844205, 'linlin_weight': 0.056, 'max_depth': 4, 'min_child_weight': 10, 'n_estimators': 67, 'reg_alpha': 0.12110301591006839, 'reg_lambda': 0.004033085463237339, 'subsample': 0.8500000000000001}. Best is trial 16 with value: 8.27.\n",
      "[I 2023-07-19 16:41:15,427] Trial 22 finished with value: 8.63 and parameters: {'colsample_bytree': 0.9000000000000001, 'gamma': 0.08484920579619024, 'learning_rate': 0.09418299580606398, 'linlin_weight': 0.053000000000000005, 'max_depth': 4, 'min_child_weight': 10, 'n_estimators': 63, 'reg_alpha': 0.08456410390830484, 'reg_lambda': 0.003690121986566401, 'subsample': 0.8500000000000001}. Best is trial 16 with value: 8.27.\n",
      "[I 2023-07-19 16:41:16,205] Trial 23 finished with value: 21.04 and parameters: {'colsample_bytree': 0.75, 'gamma': 0.21054400967939724, 'learning_rate': 0.10126181605304765, 'linlin_weight': 0.10099999999999999, 'max_depth': 3, 'min_child_weight': 12, 'n_estimators': 60, 'reg_alpha': 0.06484299928448911, 'reg_lambda': 0.001573519245674425, 'subsample': 0.9}. Best is trial 16 with value: 8.27.\n",
      "[I 2023-07-19 16:41:17,199] Trial 24 finished with value: 11.9 and parameters: {'colsample_bytree': 1.0, 'gamma': 0.09864993121989615, 'learning_rate': 0.14182573162259626, 'linlin_weight': 0.055, 'max_depth': 5, 'min_child_weight': 8, 'n_estimators': 75, 'reg_alpha': 0.01453063397608601, 'reg_lambda': 0.00979800008106567, 'subsample': 0.75}. Best is trial 16 with value: 8.27.\n",
      "[I 2023-07-19 16:41:17,872] Trial 25 finished with value: 6.27 and parameters: {'colsample_bytree': 0.9000000000000001, 'gamma': 0.10919643254680998, 'learning_rate': 0.05343729619936526, 'linlin_weight': 0.046000000000000006, 'max_depth': 4, 'min_child_weight': 10, 'n_estimators': 60, 'reg_alpha': 0.3511284331064573, 'reg_lambda': 0.0004720636619816888, 'subsample': 0.8500000000000001}. Best is trial 25 with value: 6.27.\n",
      "[I 2023-07-19 16:41:18,664] Trial 26 finished with value: 5.41 and parameters: {'colsample_bytree': 0.9000000000000001, 'gamma': 0.08403795902203572, 'learning_rate': 0.0854323737091316, 'linlin_weight': 0.038, 'max_depth': 4, 'min_child_weight': 10, 'n_estimators': 59, 'reg_alpha': 0.28531910598923615, 'reg_lambda': 0.0005572041551381925, 'subsample': 0.8500000000000001}. Best is trial 26 with value: 5.41.\n",
      "[I 2023-07-19 16:41:19,804] Trial 27 finished with value: 304.22 and parameters: {'colsample_bytree': 0.6000000000000001, 'gamma': 0.15439019139225055, 'learning_rate': 0.12839791765164496, 'linlin_weight': 0.024, 'max_depth': 3, 'min_child_weight': 9, 'n_estimators': 147, 'reg_alpha': 0.9830780755499948, 'reg_lambda': 0.0004492129623622832, 'subsample': 0.9500000000000001}. Best is trial 26 with value: 5.41.\n",
      "[I 2023-07-19 16:41:20,588] Trial 28 finished with value: 17.46 and parameters: {'colsample_bytree': 0.95, 'gamma': 0.08284357580412459, 'learning_rate': 0.07562188164988583, 'linlin_weight': 0.096, 'max_depth': 6, 'min_child_weight': 7, 'n_estimators': 57, 'reg_alpha': 0.2762854477808504, 'reg_lambda': 0.00013926439334045648, 'subsample': 0.75}. Best is trial 26 with value: 5.41.\n",
      "[I 2023-07-19 16:41:21,258] Trial 29 finished with value: 50.27 and parameters: {'colsample_bytree': 0.75, 'gamma': 0.17501294338826268, 'learning_rate': 0.1480448505723451, 'linlin_weight': 0.037, 'max_depth': 4, 'min_child_weight': 12, 'n_estimators': 95, 'reg_alpha': 0.27052977017701657, 'reg_lambda': 5.958533862935289e-05, 'subsample': 0.7000000000000001}. Best is trial 26 with value: 5.41.\n",
      "[I 2023-07-19 16:41:22,079] Trial 30 finished with value: 6.18 and parameters: {'colsample_bytree': 0.9000000000000001, 'gamma': 0.2927370220354179, 'learning_rate': 0.08571536873890659, 'linlin_weight': 0.039, 'max_depth': 6, 'min_child_weight': 10, 'n_estimators': 77, 'reg_alpha': 0.40206481266253846, 'reg_lambda': 0.0007910144434248032, 'subsample': 0.9}. Best is trial 26 with value: 5.41.\n",
      "[I 2023-07-19 16:41:22,796] Trial 31 finished with value: 5.46 and parameters: {'colsample_bytree': 0.9000000000000001, 'gamma': 0.29148837120971266, 'learning_rate': 0.08833653148157486, 'linlin_weight': 0.036000000000000004, 'max_depth': 6, 'min_child_weight': 10, 'n_estimators': 78, 'reg_alpha': 0.41638243702593575, 'reg_lambda': 0.0007284052515070001, 'subsample': 0.9}. Best is trial 26 with value: 5.41.\n",
      "[I 2023-07-19 16:41:23,596] Trial 32 finished with value: 6.46 and parameters: {'colsample_bytree': 0.9000000000000001, 'gamma': 0.30657091206746756, 'learning_rate': 0.08071059417232904, 'linlin_weight': 0.011, 'max_depth': 7, 'min_child_weight': 10, 'n_estimators': 78, 'reg_alpha': 0.4541687819727456, 'reg_lambda': 0.0007640493579169433, 'subsample': 0.9}. Best is trial 26 with value: 5.41.\n",
      "[I 2023-07-19 16:41:24,497] Trial 33 finished with value: 8.6 and parameters: {'colsample_bytree': 1.0, 'gamma': 0.255897010933018, 'learning_rate': 0.07777736890479495, 'linlin_weight': 0.032, 'max_depth': 8, 'min_child_weight': 11, 'n_estimators': 82, 'reg_alpha': 0.8661537446591284, 'reg_lambda': 0.00027048374160182245, 'subsample': 0.9500000000000001}. Best is trial 26 with value: 5.41.\n",
      "[I 2023-07-19 16:41:25,332] Trial 34 finished with value: 6.63 and parameters: {'colsample_bytree': 0.8500000000000001, 'gamma': 0.30279654430189523, 'learning_rate': 0.13099176798730924, 'linlin_weight': 0.04, 'max_depth': 6, 'min_child_weight': 10, 'n_estimators': 72, 'reg_alpha': 0.04745902871630335, 'reg_lambda': 0.0007090256632881888, 'subsample': 0.9}. Best is trial 26 with value: 5.41.\n",
      "[I 2023-07-19 16:41:25,982] Trial 35 finished with value: 9.85 and parameters: {'colsample_bytree': 0.9000000000000001, 'gamma': 0.18624871259387743, 'learning_rate': 0.050324382067109215, 'linlin_weight': 0.068, 'max_depth': 8, 'min_child_weight': 13, 'n_estimators': 56, 'reg_alpha': 0.3952657490149317, 'reg_lambda': 0.00019633260820454005, 'subsample': 1.0}. Best is trial 26 with value: 5.41.\n",
      "[I 2023-07-19 16:41:26,794] Trial 36 finished with value: 17.46 and parameters: {'colsample_bytree': 0.2, 'gamma': 0.12011912175187492, 'learning_rate': 0.1010089520677989, 'linlin_weight': 0.086, 'max_depth': 6, 'min_child_weight': 8, 'n_estimators': 97, 'reg_alpha': 0.2398281811714026, 'reg_lambda': 0.0006003537160855001, 'subsample': 0.65}. Best is trial 26 with value: 5.41.\n",
      "[I 2023-07-19 16:41:27,607] Trial 37 finished with value: 14.35 and parameters: {'colsample_bytree': 0.8, 'gamma': 0.42286573230454794, 'learning_rate': 0.1607375869402525, 'linlin_weight': 0.022, 'max_depth': 7, 'min_child_weight': 10, 'n_estimators': 68, 'reg_alpha': 0.04922004067742672, 'reg_lambda': 0.00038043308805447854, 'subsample': 0.8500000000000001}. Best is trial 26 with value: 5.41.\n",
      "[I 2023-07-19 16:41:28,315] Trial 38 finished with value: 63.89 and parameters: {'colsample_bytree': 0.95, 'gamma': 0.25633853986369753, 'learning_rate': 0.18815134224527466, 'linlin_weight': 0.121, 'max_depth': 4, 'min_child_weight': 15, 'n_estimators': 113, 'reg_alpha': 0.08427475807664302, 'reg_lambda': 0.0001130689747780255, 'subsample': 0.9500000000000001}. Best is trial 26 with value: 5.41.\n",
      "[I 2023-07-19 16:41:29,173] Trial 39 finished with value: 68.14 and parameters: {'colsample_bytree': 0.75, 'gamma': 0.5100186709254132, 'learning_rate': 0.13285374097813923, 'linlin_weight': 0.166, 'max_depth': 3, 'min_child_weight': 12, 'n_estimators': 83, 'reg_alpha': 0.4789316955666611, 'reg_lambda': 7.310926283291703e-05, 'subsample': 0.5}. Best is trial 26 with value: 5.41.\n",
      "[I 2023-07-19 16:41:30,063] Trial 40 finished with value: 52.83 and parameters: {'colsample_bytree': 0.4, 'gamma': 0.35288688566843585, 'learning_rate': 0.07404557200924, 'linlin_weight': 0.21000000000000002, 'max_depth': 6, 'min_child_weight': 7, 'n_estimators': 55, 'reg_alpha': 0.9923104726899208, 'reg_lambda': 0.00022003035911871344, 'subsample': 0.9}. Best is trial 26 with value: 5.41.\n",
      "[I 2023-07-19 16:41:30,964] Trial 41 finished with value: 6.24 and parameters: {'colsample_bytree': 0.9000000000000001, 'gamma': 0.30392119537511525, 'learning_rate': 0.07907560546904333, 'linlin_weight': 0.01, 'max_depth': 7, 'min_child_weight': 10, 'n_estimators': 76, 'reg_alpha': 0.32745039321888797, 'reg_lambda': 0.0009293377271755476, 'subsample': 0.9}. Best is trial 26 with value: 5.41.\n",
      "[I 2023-07-19 16:41:31,665] Trial 42 finished with value: 11.99 and parameters: {'colsample_bytree': 0.95, 'gamma': 0.28877506674714953, 'learning_rate': 0.10058945890959117, 'linlin_weight': 0.025, 'max_depth': 9, 'min_child_weight': 10, 'n_estimators': 75, 'reg_alpha': 0.19397679962468234, 'reg_lambda': 0.0011569408190513848, 'subsample': 0.4}. Best is trial 26 with value: 5.41.\n",
      "[I 2023-07-19 16:41:32,545] Trial 43 finished with value: 16.69 and parameters: {'colsample_bytree': 1.0, 'gamma': 0.4316743543834191, 'learning_rate': 0.08013553184525479, 'linlin_weight': 0.045000000000000005, 'max_depth': 8, 'min_child_weight': 9, 'n_estimators': 88, 'reg_alpha': 0.31614332026088626, 'reg_lambda': 0.0004529454108207716, 'subsample': 1.0}. Best is trial 26 with value: 5.41.\n",
      "[I 2023-07-19 16:41:33,230] Trial 44 finished with value: 3.66 and parameters: {'colsample_bytree': 0.8, 'gamma': 0.20061885723696826, 'learning_rate': 0.068226752670585, 'linlin_weight': 0.028000000000000004, 'max_depth': 7, 'min_child_weight': 11, 'n_estimators': 67, 'reg_alpha': 0.1337843182802664, 'reg_lambda': 0.0011168193830479723, 'subsample': 0.9500000000000001}. Best is trial 44 with value: 3.66.\n",
      "[I 2023-07-19 16:41:34,048] Trial 45 finished with value: 53.89 and parameters: {'colsample_bytree': 0.8500000000000001, 'gamma': 0.2374099752143927, 'learning_rate': 0.16080097954305736, 'linlin_weight': 0.14200000000000002, 'max_depth': 7, 'min_child_weight': 11, 'n_estimators': 71, 'reg_alpha': 0.13405703780774378, 'reg_lambda': 0.002278239746971044, 'subsample': 0.9500000000000001}. Best is trial 44 with value: 3.66.\n",
      "[I 2023-07-19 16:41:34,731] Trial 46 finished with value: 4.15 and parameters: {'colsample_bytree': 0.8500000000000001, 'gamma': 0.18811386087976714, 'learning_rate': 0.11400378077045281, 'linlin_weight': 0.011, 'max_depth': 10, 'min_child_weight': 14, 'n_estimators': 66, 'reg_alpha': 0.6408772843278026, 'reg_lambda': 0.0010121837508561603, 'subsample': 1.0}. Best is trial 44 with value: 3.66.\n",
      "[I 2023-07-19 16:41:35,832] Trial 47 finished with value: 4.92 and parameters: {'colsample_bytree': 0.8, 'gamma': 0.19065379082882036, 'learning_rate': 0.11770827382542837, 'linlin_weight': 0.028000000000000004, 'max_depth': 10, 'min_child_weight': 14, 'n_estimators': 67, 'reg_alpha': 0.5995581139505486, 'reg_lambda': 0.0012659780921817504, 'subsample': 1.0}. Best is trial 44 with value: 3.66.\n",
      "[I 2023-07-19 16:41:36,676] Trial 48 finished with value: 5.69 and parameters: {'colsample_bytree': 0.8, 'gamma': 0.17738584678310143, 'learning_rate': 0.11389197597818249, 'linlin_weight': 0.028999999999999998, 'max_depth': 10, 'min_child_weight': 14, 'n_estimators': 69, 'reg_alpha': 0.6335732063575236, 'reg_lambda': 0.002527547011819932, 'subsample': 1.0}. Best is trial 44 with value: 3.66.\n",
      "[I 2023-07-19 16:41:37,363] Trial 49 finished with value: 12.81 and parameters: {'colsample_bytree': 0.8, 'gamma': 0.06268981939183962, 'learning_rate': 0.1415678048465435, 'linlin_weight': 0.066, 'max_depth': 10, 'min_child_weight': 14, 'n_estimators': 56, 'reg_alpha': 0.18442810631604847, 'reg_lambda': 0.001495063764748836, 'subsample': 1.0}. Best is trial 44 with value: 3.66.\n",
      "[I 2023-07-19 16:41:38,198] Trial 50 finished with value: 184.25 and parameters: {'colsample_bytree': 0.65, 'gamma': 0.15029039158895294, 'learning_rate': 0.20357082890468542, 'linlin_weight': 0.018000000000000002, 'max_depth': 11, 'min_child_weight': 14, 'n_estimators': 66, 'reg_alpha': 0.69159691997695, 'reg_lambda': 0.006282450701357107, 'subsample': 0.9500000000000001}. Best is trial 44 with value: 3.66.\n",
      "[I 2023-07-19 16:41:38,889] Trial 51 finished with value: 4.25 and parameters: {'colsample_bytree': 0.8, 'gamma': 0.19761542196875245, 'learning_rate': 0.10431986090068032, 'linlin_weight': 0.03, 'max_depth': 10, 'min_child_weight': 15, 'n_estimators': 70, 'reg_alpha': 0.6240679960415897, 'reg_lambda': 0.002788234276679849, 'subsample': 1.0}. Best is trial 44 with value: 3.66.\n",
      "[I 2023-07-19 16:41:39,678] Trial 52 finished with value: 5.03 and parameters: {'colsample_bytree': 0.8500000000000001, 'gamma': 0.2047171679964275, 'learning_rate': 0.11536810162919586, 'linlin_weight': 0.03, 'max_depth': 11, 'min_child_weight': 15, 'n_estimators': 66, 'reg_alpha': 0.6370253438385416, 'reg_lambda': 0.002384216625570695, 'subsample': 1.0}. Best is trial 44 with value: 3.66.\n",
      "[I 2023-07-19 16:41:40,348] Trial 53 finished with value: 4.15 and parameters: {'colsample_bytree': 0.75, 'gamma': 0.21718335934398136, 'learning_rate': 0.11195444328331572, 'linlin_weight': 0.019000000000000003, 'max_depth': 11, 'min_child_weight': 15, 'n_estimators': 66, 'reg_alpha': 0.6104187570207396, 'reg_lambda': 0.0030842233386451025, 'subsample': 1.0}. Best is trial 44 with value: 3.66.\n",
      "[I 2023-07-19 16:41:41,739] Trial 54 finished with value: 7.12 and parameters: {'colsample_bytree': 0.75, 'gamma': 0.2158141622237087, 'learning_rate': 0.12054735655465634, 'linlin_weight': 0.018000000000000002, 'max_depth': 11, 'min_child_weight': 15, 'n_estimators': 65, 'reg_alpha': 0.684667665128378, 'reg_lambda': 0.0026823908940169297, 'subsample': 1.0}. Best is trial 44 with value: 3.66.\n",
      "[I 2023-07-19 16:41:42,414] Trial 55 finished with value: 67.78 and parameters: {'colsample_bytree': 0.65, 'gamma': 0.2041315911394292, 'learning_rate': 0.16188659199194466, 'linlin_weight': 0.022, 'max_depth': 12, 'min_child_weight': 15, 'n_estimators': 71, 'reg_alpha': 0.9618149810504805, 'reg_lambda': 0.005581782947322618, 'subsample': 1.0}. Best is trial 44 with value: 3.66.\n",
      "[I 2023-07-19 16:41:43,196] Trial 56 finished with value: 87.14 and parameters: {'colsample_bytree': 0.7, 'gamma': 0.1316210621926281, 'learning_rate': 0.1062247404452254, 'linlin_weight': 0.25, 'max_depth': 10, 'min_child_weight': 14, 'n_estimators': 54, 'reg_alpha': 0.5968622119768817, 'reg_lambda': 0.0013102158419342033, 'subsample': 0.9500000000000001}. Best is trial 44 with value: 3.66.\n",
      "[I 2023-07-19 16:41:43,941] Trial 57 finished with value: 85.97 and parameters: {'colsample_bytree': 0.8, 'gamma': 0.23797085023263653, 'learning_rate': 0.14459672531351214, 'linlin_weight': 0.047, 'max_depth': 11, 'min_child_weight': 15, 'n_estimators': 129, 'reg_alpha': 0.19669810456711254, 'reg_lambda': 0.002110816334698849, 'subsample': 1.0}. Best is trial 44 with value: 3.66.\n",
      "[I 2023-07-19 16:41:44,765] Trial 58 finished with value: 1.29 and parameters: {'colsample_bytree': 0.8500000000000001, 'gamma': 0.19093630523142374, 'learning_rate': 0.0662517503817346, 'linlin_weight': 0.011, 'max_depth': 9, 'min_child_weight': 14, 'n_estimators': 64, 'reg_alpha': 0.11872196003833523, 'reg_lambda': 0.003619973634896658, 'subsample': 0.9500000000000001}. Best is trial 58 with value: 1.29.\n",
      "[I 2023-07-19 16:41:45,574] Trial 59 finished with value: 1.15 and parameters: {'colsample_bytree': 0.75, 'gamma': 0.05558299593282284, 'learning_rate': 0.06367660456992277, 'linlin_weight': 0.01, 'max_depth': 9, 'min_child_weight': 13, 'n_estimators': 52, 'reg_alpha': 0.11902662178621176, 'reg_lambda': 0.004227737811775313, 'subsample': 0.9500000000000001}. Best is trial 59 with value: 1.15.\n",
      "[I 2023-07-19 16:41:46,397] Trial 60 finished with value: 1.89 and parameters: {'colsample_bytree': 0.75, 'gamma': 0.05663494616472037, 'learning_rate': 0.0650169007752075, 'linlin_weight': 0.016, 'max_depth': 9, 'min_child_weight': 13, 'n_estimators': 52, 'reg_alpha': 0.10597935756164406, 'reg_lambda': 0.00374079931371368, 'subsample': 0.9500000000000001}. Best is trial 59 with value: 1.15.\n",
      "[I 2023-07-19 16:41:47,159] Trial 61 finished with value: 1.24 and parameters: {'colsample_bytree': 0.55, 'gamma': 0.06173915611403395, 'learning_rate': 0.06408051797269439, 'linlin_weight': 0.011, 'max_depth': 9, 'min_child_weight': 13, 'n_estimators': 50, 'reg_alpha': 0.06815253997389581, 'reg_lambda': 0.014543561496869065, 'subsample': 0.9500000000000001}. Best is trial 59 with value: 1.15.\n",
      "[I 2023-07-19 16:41:47,813] Trial 62 finished with value: 1.12 and parameters: {'colsample_bytree': 0.55, 'gamma': 0.041319214545805, 'learning_rate': 0.06636781409510677, 'linlin_weight': 0.01, 'max_depth': 9, 'min_child_weight': 13, 'n_estimators': 52, 'reg_alpha': 0.031123941850519234, 'reg_lambda': 0.016627602512853532, 'subsample': 0.9500000000000001}. Best is trial 62 with value: 1.12.\n",
      "[I 2023-07-19 16:41:48,613] Trial 63 finished with value: 1.23 and parameters: {'colsample_bytree': 0.5, 'gamma': 0.05044745164689761, 'learning_rate': 0.06874317840492654, 'linlin_weight': 0.011, 'max_depth': 9, 'min_child_weight': 13, 'n_estimators': 50, 'reg_alpha': 0.03745002932319665, 'reg_lambda': 0.026135449798134827, 'subsample': 0.9500000000000001}. Best is trial 62 with value: 1.12.\n",
      "[I 2023-07-19 16:41:49,279] Trial 64 finished with value: 1.73 and parameters: {'colsample_bytree': 0.55, 'gamma': 0.0440604725111375, 'learning_rate': 0.06355246151538732, 'linlin_weight': 0.015, 'max_depth': 9, 'min_child_weight': 13, 'n_estimators': 52, 'reg_alpha': 0.03357981386770646, 'reg_lambda': 0.01756346385967517, 'subsample': 0.9500000000000001}. Best is trial 62 with value: 1.12.\n",
      "[I 2023-07-19 16:41:50,063] Trial 65 finished with value: 1.86 and parameters: {'colsample_bytree': 0.55, 'gamma': 0.052005544729854865, 'learning_rate': 0.060936019337854044, 'linlin_weight': 0.016, 'max_depth': 9, 'min_child_weight': 13, 'n_estimators': 50, 'reg_alpha': 0.03273212434273951, 'reg_lambda': 0.02076613729877142, 'subsample': 0.9500000000000001}. Best is trial 62 with value: 1.12.\n",
      "[I 2023-07-19 16:41:50,708] Trial 66 finished with value: 1.62 and parameters: {'colsample_bytree': 0.55, 'gamma': 0.0075626489664224195, 'learning_rate': 0.058975094850679005, 'linlin_weight': 0.014, 'max_depth': 9, 'min_child_weight': 13, 'n_estimators': 52, 'reg_alpha': 0.029037768105439274, 'reg_lambda': 0.021455464917402828, 'subsample': 0.9500000000000001}. Best is trial 62 with value: 1.12.\n",
      "[I 2023-07-19 16:41:51,459] Trial 67 finished with value: 1.25 and parameters: {'colsample_bytree': 0.55, 'gamma': 0.0037531801648193475, 'learning_rate': 0.06202112908814508, 'linlin_weight': 0.011, 'max_depth': 9, 'min_child_weight': 13, 'n_estimators': 53, 'reg_alpha': 0.02970046719796993, 'reg_lambda': 0.03954580906891195, 'subsample': 0.9}. Best is trial 62 with value: 1.12.\n",
      "[I 2023-07-19 16:41:52,111] Trial 68 finished with value: 1.12 and parameters: {'colsample_bytree': 0.45, 'gamma': 0.01587248497790389, 'learning_rate': 0.052659254594374184, 'linlin_weight': 0.01, 'max_depth': 8, 'min_child_weight': 12, 'n_estimators': 59, 'reg_alpha': 0.06730966305528832, 'reg_lambda': 0.03859370328487557, 'subsample': 0.9}. Best is trial 62 with value: 1.12.\n",
      "[I 2023-07-19 16:41:53,056] Trial 69 finished with value: 46.45 and parameters: {'colsample_bytree': 0.45, 'gamma': 0.0017365879933276401, 'learning_rate': 0.05052982175875104, 'linlin_weight': 0.21400000000000002, 'max_depth': 8, 'min_child_weight': 12, 'n_estimators': 59, 'reg_alpha': 0.06279892617552911, 'reg_lambda': 0.04599132576936636, 'subsample': 0.9}. Best is trial 62 with value: 1.12.\n",
      "[I 2023-07-19 16:41:53,872] Trial 70 finished with value: 6.09 and parameters: {'colsample_bytree': 0.45, 'gamma': 0.08805340341906603, 'learning_rate': 0.09091695460593496, 'linlin_weight': 0.044000000000000004, 'max_depth': 8, 'min_child_weight': 13, 'n_estimators': 62, 'reg_alpha': 0.046391445431422165, 'reg_lambda': 0.03257544084467089, 'subsample': 0.8}. Best is trial 62 with value: 1.12.\n",
      "[I 2023-07-19 16:41:54,532] Trial 71 finished with value: 1.24 and parameters: {'colsample_bytree': 0.55, 'gamma': 0.025537707330054074, 'learning_rate': 0.07113836514764713, 'linlin_weight': 0.011, 'max_depth': 9, 'min_child_weight': 13, 'n_estimators': 54, 'reg_alpha': 0.02013578569344451, 'reg_lambda': 0.07587898666938837, 'subsample': 0.9}. Best is trial 62 with value: 1.12.\n",
      "[I 2023-07-19 16:41:55,355] Trial 72 finished with value: 1.13 and parameters: {'colsample_bytree': 0.6000000000000001, 'gamma': 0.028520668940706075, 'learning_rate': 0.06759334503168031, 'linlin_weight': 0.01, 'max_depth': 9, 'min_child_weight': 12, 'n_estimators': 58, 'reg_alpha': 0.02253903495790668, 'reg_lambda': 0.09396266702541842, 'subsample': 0.9}. Best is trial 62 with value: 1.12.\n",
      "[I 2023-07-19 16:41:56,029] Trial 73 finished with value: 2.97 and parameters: {'colsample_bytree': 0.6000000000000001, 'gamma': 0.02885213421051865, 'learning_rate': 0.09282003490268478, 'linlin_weight': 0.024, 'max_depth': 8, 'min_child_weight': 12, 'n_estimators': 54, 'reg_alpha': 0.020123486835280483, 'reg_lambda': 0.08690153902571035, 'subsample': 0.8500000000000001}. Best is trial 62 with value: 1.12.\n",
      "[I 2023-07-19 16:41:57,208] Trial 74 finished with value: 4.23 and parameters: {'colsample_bytree': 0.45, 'gamma': 0.06820104497250702, 'learning_rate': 0.050419601730434985, 'linlin_weight': 0.034, 'max_depth': 9, 'min_child_weight': 12, 'n_estimators': 58, 'reg_alpha': 0.009525828643210279, 'reg_lambda': 0.0870204392004644, 'subsample': 0.9}. Best is trial 62 with value: 1.12.\n",
      "[I 2023-07-19 16:41:57,892] Trial 75 finished with value: 2.36 and parameters: {'colsample_bytree': 0.5, 'gamma': 0.024980214299730845, 'learning_rate': 0.07167609153417093, 'linlin_weight': 0.02, 'max_depth': 9, 'min_child_weight': 13, 'n_estimators': 50, 'reg_alpha': 0.023910018068960624, 'reg_lambda': 0.013317508579483862, 'subsample': 0.9}. Best is trial 62 with value: 1.12.\n",
      "[I 2023-07-19 16:41:58,680] Trial 76 finished with value: 1.4 and parameters: {'colsample_bytree': 0.55, 'gamma': 0.104707578793278, 'learning_rate': 0.09419631290009885, 'linlin_weight': 0.01, 'max_depth': 8, 'min_child_weight': 12, 'n_estimators': 54, 'reg_alpha': 0.016497179643943212, 'reg_lambda': 0.03187350548679894, 'subsample': 0.8500000000000001}. Best is trial 62 with value: 1.12.\n",
      "[I 2023-07-19 16:41:59,330] Trial 77 finished with value: 2.89 and parameters: {'colsample_bytree': 0.4, 'gamma': 0.0007899542926487358, 'learning_rate': 0.06904539669781061, 'linlin_weight': 0.024, 'max_depth': 9, 'min_child_weight': 13, 'n_estimators': 58, 'reg_alpha': 0.04082271575152603, 'reg_lambda': 0.07713669925429852, 'subsample': 0.8}. Best is trial 62 with value: 1.12.\n",
      "[I 2023-07-19 16:42:00,126] Trial 78 finished with value: 4.59 and parameters: {'colsample_bytree': 0.5, 'gamma': 0.048766078875921826, 'learning_rate': 0.08032349312218043, 'linlin_weight': 0.035, 'max_depth': 8, 'min_child_weight': 12, 'n_estimators': 61, 'reg_alpha': 0.07706393537963789, 'reg_lambda': 0.15497579385975346, 'subsample': 0.9}. Best is trial 62 with value: 1.12.\n",
      "[I 2023-07-19 16:42:00,798] Trial 79 finished with value: 6.87 and parameters: {'colsample_bytree': 0.30000000000000004, 'gamma': 0.08806242339767983, 'learning_rate': 0.05013762212599246, 'linlin_weight': 0.052000000000000005, 'max_depth': 9, 'min_child_weight': 13, 'n_estimators': 56, 'reg_alpha': 0.060727439904504105, 'reg_lambda': 0.03277105412676483, 'subsample': 0.8500000000000001}. Best is trial 62 with value: 1.12.\n",
      "[I 2023-07-19 16:42:01,697] Trial 80 finished with value: 28.35 and parameters: {'colsample_bytree': 0.65, 'gamma': 0.12136293557028552, 'learning_rate': 0.07041707801915582, 'linlin_weight': 0.14500000000000002, 'max_depth': 9, 'min_child_weight': 12, 'n_estimators': 50, 'reg_alpha': 0.018176215571641296, 'reg_lambda': 0.008875872887192677, 'subsample': 0.9}. Best is trial 62 with value: 1.12.\n",
      "[I 2023-07-19 16:42:02,480] Trial 81 finished with value: 1.13 and parameters: {'colsample_bytree': 0.6000000000000001, 'gamma': 0.03075054282053985, 'learning_rate': 0.060541239239935346, 'linlin_weight': 0.01, 'max_depth': 9, 'min_child_weight': 13, 'n_estimators': 53, 'reg_alpha': 0.04177044164856979, 'reg_lambda': 0.04974732550894909, 'subsample': 0.9500000000000001}. Best is trial 62 with value: 1.12.\n",
      "[I 2023-07-19 16:42:03,129] Trial 82 finished with value: 1.09 and parameters: {'colsample_bytree': 0.6000000000000001, 'gamma': 0.030712217565962464, 'learning_rate': 0.08638554491745082, 'linlin_weight': 0.01, 'max_depth': 9, 'min_child_weight': 13, 'n_estimators': 53, 'reg_alpha': 0.0377904436308209, 'reg_lambda': 0.042070270165530894, 'subsample': 0.9500000000000001}. Best is trial 82 with value: 1.09.\n",
      "[I 2023-07-19 16:42:03,960] Trial 83 finished with value: 2.72 and parameters: {'colsample_bytree': 0.6000000000000001, 'gamma': 0.03361730456799648, 'learning_rate': 0.08610432543770047, 'linlin_weight': 0.022, 'max_depth': 10, 'min_child_weight': 13, 'n_estimators': 60, 'reg_alpha': 0.04169005832591351, 'reg_lambda': 0.06119071381409682, 'subsample': 0.9500000000000001}. Best is trial 82 with value: 1.09.\n",
      "[I 2023-07-19 16:42:04,642] Trial 84 finished with value: 2.49 and parameters: {'colsample_bytree': 0.45, 'gamma': 0.06626718462637915, 'learning_rate': 0.09988410970336864, 'linlin_weight': 0.018000000000000002, 'max_depth': 8, 'min_child_weight': 5, 'n_estimators': 57, 'reg_alpha': 0.05940750203907133, 'reg_lambda': 0.025890340395069385, 'subsample': 0.65}. Best is trial 82 with value: 1.09.\n",
      "[I 2023-07-19 16:42:05,522] Trial 85 finished with value: 17.31 and parameters: {'colsample_bytree': 0.6000000000000001, 'gamma': 0.03189259312174063, 'learning_rate': 0.08894695576214946, 'linlin_weight': 0.042, 'max_depth': 9, 'min_child_weight': 14, 'n_estimators': 106, 'reg_alpha': 0.011706436677087687, 'reg_lambda': 0.04771399603201354, 'subsample': 0.9500000000000001}. Best is trial 82 with value: 1.09.\n",
      "[I 2023-07-19 16:42:06,176] Trial 86 finished with value: 4.38 and parameters: {'colsample_bytree': 0.5, 'gamma': 0.07752283684586292, 'learning_rate': 0.07943429090800738, 'linlin_weight': 0.034, 'max_depth': 8, 'min_child_weight': 13, 'n_estimators': 54, 'reg_alpha': 0.024546898775542433, 'reg_lambda': 0.01627911873760109, 'subsample': 0.6000000000000001}. Best is trial 82 with value: 1.09.\n",
      "[I 2023-07-19 16:42:07,414] Trial 87 finished with value: 8.84 and parameters: {'colsample_bytree': 0.55, 'gamma': 0.1372219182380097, 'learning_rate': 0.059135121546002256, 'linlin_weight': 0.061000000000000006, 'max_depth': 10, 'min_child_weight': 12, 'n_estimators': 62, 'reg_alpha': 0.08603440170759409, 'reg_lambda': 0.059748551221337015, 'subsample': 0.9500000000000001}. Best is trial 82 with value: 1.09.\n",
      "[I 2023-07-19 16:42:08,079] Trial 88 finished with value: 3.15 and parameters: {'colsample_bytree': 0.4, 'gamma': 0.09876957557952504, 'learning_rate': 0.0737877519450874, 'linlin_weight': 0.026000000000000002, 'max_depth': 10, 'min_child_weight': 14, 'n_estimators': 50, 'reg_alpha': 0.0383601745338971, 'reg_lambda': 0.02629045013970204, 'subsample': 0.9}. Best is trial 82 with value: 1.09.\n",
      "[I 2023-07-19 16:42:08,966] Trial 89 finished with value: 32.52 and parameters: {'colsample_bytree': 0.65, 'gamma': 0.11292167882535298, 'learning_rate': 0.09713037113077572, 'linlin_weight': 0.018000000000000002, 'max_depth': 9, 'min_child_weight': 12, 'n_estimators': 102, 'reg_alpha': 0.020717738474634362, 'reg_lambda': 0.1275059387623721, 'subsample': 0.9500000000000001}. Best is trial 82 with value: 1.09.\n",
      "[I 2023-07-19 16:42:09,663] Trial 90 finished with value: 1.13 and parameters: {'colsample_bytree': 0.5, 'gamma': 0.05430060926262585, 'learning_rate': 0.05966071504641775, 'linlin_weight': 0.01, 'max_depth': 8, 'min_child_weight': 11, 'n_estimators': 56, 'reg_alpha': 0.00745200138960576, 'reg_lambda': 0.0415947995367571, 'subsample': 0.8500000000000001}. Best is trial 82 with value: 1.09.\n",
      "[I 2023-07-19 16:42:10,480] Trial 91 finished with value: 1.13 and parameters: {'colsample_bytree': 0.5, 'gamma': 0.050833404677034316, 'learning_rate': 0.05923231550295658, 'linlin_weight': 0.01, 'max_depth': 8, 'min_child_weight': 11, 'n_estimators': 56, 'reg_alpha': 0.0064125606255652735, 'reg_lambda': 0.03516818395892819, 'subsample': 0.9}. Best is trial 82 with value: 1.09.\n",
      "[I 2023-07-19 16:42:11,481] Trial 92 finished with value: 3.33 and parameters: {'colsample_bytree': 0.5, 'gamma': 0.06090878302473097, 'learning_rate': 0.0602504908054956, 'linlin_weight': 0.027000000000000003, 'max_depth': 8, 'min_child_weight': 11, 'n_estimators': 57, 'reg_alpha': 0.006413253983338742, 'reg_lambda': 0.038376988432498885, 'subsample': 0.9}. Best is trial 82 with value: 1.09.\n",
      "[I 2023-07-19 16:42:12,247] Trial 93 finished with value: 1.11 and parameters: {'colsample_bytree': 0.6000000000000001, 'gamma': 0.08029846450763095, 'learning_rate': 0.07958533435030492, 'linlin_weight': 0.01, 'max_depth': 8, 'min_child_weight': 11, 'n_estimators': 59, 'reg_alpha': 0.003674697569514055, 'reg_lambda': 0.012972627544183567, 'subsample': 0.8500000000000001}. Best is trial 82 with value: 1.09.\n",
      "[I 2023-07-19 16:42:13,132] Trial 94 finished with value: 2.8 and parameters: {'colsample_bytree': 0.6000000000000001, 'gamma': 0.15344152320260307, 'learning_rate': 0.08562038185279927, 'linlin_weight': 0.023, 'max_depth': 8, 'min_child_weight': 11, 'n_estimators': 60, 'reg_alpha': 0.004368418159967816, 'reg_lambda': 0.0109475946190506, 'subsample': 0.8500000000000001}. Best is trial 82 with value: 1.09.\n",
      "[I 2023-07-19 16:42:13,812] Trial 95 finished with value: 1.8 and parameters: {'colsample_bytree': 0.35000000000000003, 'gamma': 0.08973862968505748, 'learning_rate': 0.07653363582955695, 'linlin_weight': 0.016, 'max_depth': 7, 'min_child_weight': 11, 'n_estimators': 58, 'reg_alpha': 0.008963277081216296, 'reg_lambda': 0.018612120991831554, 'subsample': 0.8}. Best is trial 82 with value: 1.09.\n",
      "[I 2023-07-19 16:42:14,616] Trial 96 finished with value: 4.14 and parameters: {'colsample_bytree': 0.45, 'gamma': 0.037944766768468835, 'learning_rate': 0.05048926239459492, 'linlin_weight': 0.033, 'max_depth': 8, 'min_child_weight': 11, 'n_estimators': 63, 'reg_alpha': 0.0026944833436668386, 'reg_lambda': 0.023209999219185186, 'subsample': 0.75}. Best is trial 82 with value: 1.09.\n",
      "[I 2023-07-19 16:42:15,278] Trial 97 finished with value: 52.45 and parameters: {'colsample_bytree': 0.5, 'gamma': 0.02163432896618062, 'learning_rate': 0.09955049187435855, 'linlin_weight': 0.189, 'max_depth': 8, 'min_child_weight': 12, 'n_estimators': 55, 'reg_alpha': 0.014549001239726021, 'reg_lambda': 0.04563824242824403, 'subsample': 0.8500000000000001}. Best is trial 82 with value: 1.09.\n",
      "[I 2023-07-19 16:42:16,128] Trial 98 finished with value: 3.55 and parameters: {'colsample_bytree': 0.65, 'gamma': 0.1192446831863327, 'learning_rate': 0.12469205000329857, 'linlin_weight': 0.02, 'max_depth': 7, 'min_child_weight': 11, 'n_estimators': 52, 'reg_alpha': 0.026383107723326384, 'reg_lambda': 0.029682195349543795, 'subsample': 0.8500000000000001}. Best is trial 82 with value: 1.09.\n",
      "[I 2023-07-19 16:42:17,059] Trial 99 finished with value: 4.38 and parameters: {'colsample_bytree': 0.6000000000000001, 'gamma': 0.04586966972909806, 'learning_rate': 0.10804557668430065, 'linlin_weight': 0.028000000000000004, 'max_depth': 8, 'min_child_weight': 12, 'n_estimators': 56, 'reg_alpha': 0.011791286449875413, 'reg_lambda': 0.01283492623628251, 'subsample': 0.9}. Best is trial 82 with value: 1.09.\n"
     ]
    }
   ],
   "source": [
    "s = XGB_Optuna(args=args, search_space=search_space, timestamp=now, n_trials=100)"
   ]
  },
  {
   "cell_type": "code",
   "execution_count": null,
   "metadata": {},
   "outputs": [],
   "source": [
    "# search_space = dict(\n",
    "#     linex_weight=[0.001, 1, 0.01],\n",
    "#     w_rmse_weight=[1.0, 10.0, 0.1],\n",
    "#     linlin_weight=[0.05, 0.45, 0.005],\n",
    "    \n",
    "#     n_estimators=[50, 150],\n",
    "#     min_child_weight=[1, 10],\n",
    "#     max_depth=[3, 12],\n",
    "    \n",
    "#     learning_rate=[0.05, 0.5],\n",
    "#     gamma=[0, 1],\n",
    "#     subsample=[0.5, 1.0, 0.1],\n",
    "#     colsample_bytree=[0.5, 1.0, 0.1],\n",
    "    \n",
    "#     reg_alpha=[1e-5, 1.0],\n",
    "#     reg_lambda=[1e-5, 1.0],\n",
    "#     )"
   ]
  },
  {
   "cell_type": "code",
   "execution_count": 6,
   "metadata": {},
   "outputs": [
    {
     "data": {
      "application/vnd.plotly.v1+json": {
       "config": {
        "plotlyServerURL": "https://plot.ly"
       },
       "data": [
        {
         "dimensions": [
          {
           "label": "Predicted revenue",
           "range": [
            0,
            249.98
           ],
           "values": [
            0,
            0,
            0,
            0,
            0,
            0,
            0,
            1.98,
            0,
            0,
            23.21,
            12.91,
            155.46,
            163.47,
            121.47,
            0,
            0,
            92.15,
            0,
            31.32,
            0,
            137.7,
            122.83,
            0,
            143.21,
            5.73,
            0.18,
            7.21,
            2.89,
            18.41,
            0,
            0,
            89.02,
            72.89,
            0,
            0,
            0,
            0,
            0,
            27.27,
            0,
            0,
            0,
            40.28,
            85.81,
            27.73,
            0,
            0,
            249.98,
            39.54,
            0,
            58.56,
            0,
            0,
            14.93,
            0,
            0,
            0,
            51.57,
            0,
            0,
            0,
            97.51,
            0,
            0,
            0,
            0,
            0,
            86.24,
            0,
            0,
            0,
            0,
            0,
            48.03,
            159.74,
            2.26,
            0,
            0,
            0,
            0,
            60.55,
            0,
            0,
            0,
            47.47,
            0,
            10.38,
            0.97,
            245.02,
            156.66,
            0,
            15.61,
            0,
            51.01,
            0,
            77.93,
            13.88,
            72.13,
            22.03,
            0,
            0,
            0,
            0,
            0
           ]
          },
          {
           "label": "colsample_bytree",
           "range": [
            0.2,
            1
           ],
           "values": [
            0.9,
            0.7,
            0.6,
            0.8,
            0.5,
            0.8,
            0.5,
            0.4,
            0.7,
            0.25,
            0.2,
            0.2,
            0.35000000000000003,
            0.35000000000000003,
            0.35000000000000003,
            0.35000000000000003,
            0.45,
            0.30000000000000004,
            1,
            0.55,
            0.6000000000000001,
            0.4,
            0.30000000000000004,
            0.35000000000000003,
            0.30000000000000004,
            0.45,
            0.4,
            0.2,
            0.45,
            0.95,
            0.65,
            0.35000000000000003,
            0.4,
            0.8500000000000001,
            0.25,
            0.5,
            0.25,
            0.55,
            0.75,
            0.4,
            0.35000000000000003,
            0.30000000000000004,
            0.9000000000000001,
            0.30000000000000004,
            0.45,
            0.75,
            0.5,
            0.25,
            0.35000000000000003,
            0.55,
            0.65,
            0.4,
            0.35000000000000003,
            1,
            0.30000000000000004,
            0.25,
            0.8500000000000001,
            0.2,
            0.4,
            0.35000000000000003,
            0.30000000000000004,
            0.45,
            0.4,
            0.35000000000000003,
            0.95,
            0.5,
            0.6000000000000001,
            0.45,
            0.65,
            0.75,
            0.7,
            0.30000000000000004,
            0.4,
            0.35000000000000003,
            0.30000000000000004,
            0.25,
            0.8500000000000001,
            0.25,
            0.8,
            0.35000000000000003,
            0.5,
            0.4,
            0.95,
            0.35000000000000003,
            0.45,
            0.30000000000000004,
            0.4,
            0.25,
            0.35000000000000003,
            0.30000000000000004,
            0.30000000000000004,
            0.30000000000000004,
            0.55,
            0.9000000000000001,
            0.30000000000000004,
            1,
            0.8,
            0.2,
            0.4,
            0.7,
            0.35000000000000003,
            0.4,
            0.35000000000000003,
            0.30000000000000004,
            0.45
           ]
          },
          {
           "label": "gamma",
           "range": [
            0.006006165806184516,
            0.9962409760352834
           ],
           "values": [
            0.16838654112510065,
            0.1077646441730562,
            0.2760151754039224,
            0.9613472103734924,
            0.4343555813976687,
            0.16838654112510065,
            0.1077646441730562,
            0.2760151754039224,
            0.9613472103734924,
            0.4343555813976687,
            0.618166068443688,
            0.711871486243544,
            0.6458215841968993,
            0.6555816262750424,
            0.7405639284537803,
            0.5496406478475145,
            0.8224871444092857,
            0.5964941549976294,
            0.45523241640790785,
            0.8086486349893636,
            0.6762115648424496,
            0.5504240019168551,
            0.7344902385251739,
            0.5042161883147305,
            0.6748124070472856,
            0.5733855919819512,
            0.8379273537196661,
            0.0399975884666397,
            0.34552553050641305,
            0.6303142499998513,
            0.5305800964115907,
            0.730945529120897,
            0.6458888806083761,
            0.5506999772181903,
            0.49726092475669986,
            0.5975264207807278,
            0.3744033782712243,
            0.009295557934642429,
            0.20479626107013538,
            0.47523565936454376,
            0.9921289907476332,
            0.6702136202023942,
            0.378481455289717,
            0.12480020275278025,
            0.24244371779219498,
            0.29835538041331844,
            0.8855085976416331,
            0.7726592564158644,
            0.6797959777451433,
            0.9324974838679604,
            0.7715869515368526,
            0.691138901817936,
            0.6469427916131365,
            0.7119385240686655,
            0.6007660524006568,
            0.8714046386394254,
            0.573957741645639,
            0.44094951174106,
            0.7642682701260903,
            0.6621348141298786,
            0.6868829621754616,
            0.6232026519149385,
            0.141962741455538,
            0.09029225592377155,
            0.6431938733439404,
            0.18151084846379517,
            0.5243554300896834,
            0.8113780344248239,
            0.7224165695953774,
            0.40680090167260596,
            0.5692226373631524,
            0.4720121400666589,
            0.7343002708091931,
            0.3139852938834475,
            0.23319095271731938,
            0.6184435826403748,
            0.07071970735339594,
            0.006006165806184516,
            0.6181134728505309,
            0.693669454564499,
            0.6705925197490354,
            0.4135317502640987,
            0.7484913013288895,
            0.33725475416002326,
            0.7876568523821205,
            0.7075394500092206,
            0.27734861335574035,
            0.9962409760352834,
            0.6476060368487034,
            0.7431088972949482,
            0.8358910482394482,
            0.7413915590022966,
            0.8454146928587886,
            0.03404146285919596,
            0.9139826078400055,
            0.5128596791893169,
            0.15194870204626765,
            0.7942647296634939,
            0.9729624296727504,
            0.6065804877323712,
            0.588165568479031,
            0.4965069618476152,
            0.6604642025740944,
            0.5450817802931236,
            0.7005364135209641
           ]
          },
          {
           "label": "learning_rate",
           "range": [
            0.05034060558206389,
            0.49971603230376826
           ],
           "values": [
            0.1420472237597333,
            0.29916994334120994,
            0.45670312794722306,
            0.48168700681345406,
            0.2115886298786499,
            0.1420472237597333,
            0.29916994334120994,
            0.45670312794722306,
            0.48168700681345406,
            0.2115886298786499,
            0.3871586549466813,
            0.3730663440559789,
            0.05076778306533203,
            0.058380303722413006,
            0.05322519065592094,
            0.05790634433263914,
            0.09826361784589305,
            0.11903216198178876,
            0.1902069027548514,
            0.08757489186217174,
            0.17042974696945964,
            0.052506371999222916,
            0.05329685116132557,
            0.24634484507624704,
            0.10015158303901672,
            0.15797275302627417,
            0.2555441135408103,
            0.12518625605818656,
            0.1806095676872556,
            0.14452926071926003,
            0.07513149243787012,
            0.121427327155023,
            0.05164803111427728,
            0.08014036157573098,
            0.11703446969677535,
            0.21702399309438222,
            0.15705920975600637,
            0.29716535033479363,
            0.18849872293278855,
            0.33297715806168,
            0.1395255757908431,
            0.10257618205138164,
            0.07818574902247036,
            0.09802569239354794,
            0.07074858569839153,
            0.4958496281875524,
            0.42072627353367364,
            0.06822231239825591,
            0.050841622705409144,
            0.05115474046152705,
            0.4198240159295686,
            0.10000180782710019,
            0.3540986984829406,
            0.06550617534467239,
            0.08728036997246055,
            0.30364414151219843,
            0.23863698555100293,
            0.4505009397646829,
            0.0515121254770692,
            0.20030529314077922,
            0.1114038555485361,
            0.0628560308613014,
            0.08877235624573582,
            0.05034060558206389,
            0.2708753782316604,
            0.22395592820580235,
            0.1352973951269541,
            0.1620422165200401,
            0.0836818776395915,
            0.10997694851837919,
            0.1753147666891936,
            0.06386590214584958,
            0.13154113888880883,
            0.2060082879860215,
            0.07776539776730862,
            0.15245641262289866,
            0.15004511561318068,
            0.1268700287641394,
            0.18896202290264846,
            0.16989174726099454,
            0.09264372470045207,
            0.05789252028498363,
            0.39218870794794203,
            0.0691071288687469,
            0.473508884697726,
            0.10774319061077531,
            0.07716676544368775,
            0.32126138696928,
            0.2783179895573523,
            0.1216602027258141,
            0.09576861947372807,
            0.12000990203767048,
            0.09827246976112669,
            0.35988631409422245,
            0.14655156508797682,
            0.05844261741034662,
            0.23403806835630173,
            0.07520097211965641,
            0.08865189383539862,
            0.2653700179980374,
            0.218753666334809,
            0.052005064208894655,
            0.49971603230376826,
            0.20256064157443288,
            0.24940826363236235
           ]
          },
          {
           "label": "linlin_weight",
           "range": [
            0.01,
            0.435
           ],
           "values": [
            0.09,
            0.435,
            0.255,
            0.425,
            0.25,
            0.034,
            0.24100000000000002,
            0.134,
            0.234,
            0.13,
            0.17700000000000002,
            0.17800000000000002,
            0.022,
            0.027000000000000003,
            0.028000000000000004,
            0.064,
            0.013000000000000001,
            0.067,
            0.056,
            0.09899999999999999,
            0.01,
            0.037,
            0.032,
            0.087,
            0.049,
            0.043000000000000003,
            0.109,
            0.075,
            0.017,
            0.043000000000000003,
            0.076,
            0.028000000000000004,
            0.026000000000000002,
            0.05,
            0.18500000000000003,
            0.020999999999999998,
            0.037,
            0.21200000000000002,
            0.12,
            0.162,
            0.059000000000000004,
            0.14300000000000002,
            0.21400000000000002,
            0.052000000000000005,
            0.043000000000000003,
            0.086,
            0.024,
            0.15400000000000003,
            0.01,
            0.01,
            0.036000000000000004,
            0.019000000000000003,
            0.199,
            0.24600000000000002,
            0.011,
            0.028999999999999998,
            0.233,
            0.02,
            0.037,
            0.017,
            0.11599999999999999,
            0.028000000000000004,
            0.01,
            0.026000000000000002,
            0.09899999999999999,
            0.069,
            0.019000000000000003,
            0.043000000000000003,
            0.031,
            0.135,
            0.167,
            0.192,
            0.231,
            0.017,
            0.033,
            0.047,
            0.05,
            0.014,
            0.022,
            0.22,
            0.14500000000000002,
            0.023,
            0.011,
            0.201,
            0.041,
            0.096,
            0.17600000000000002,
            0.08,
            0.027000000000000003,
            0.057,
            0.061000000000000006,
            0.015,
            0.034,
            0.106,
            0.125,
            0.016,
            0.01,
            0.023,
            0.052000000000000005,
            0.063,
            0.017,
            0.225,
            0.15400000000000003,
            0.03,
            0.25
           ]
          },
          {
           "label": "max_depth",
           "range": [
            3,
            12
           ],
           "values": [
            6,
            8,
            9,
            9,
            6,
            6,
            8,
            9,
            9,
            6,
            12,
            12,
            3,
            3,
            3,
            3,
            4,
            4,
            4,
            5,
            11,
            3,
            3,
            5,
            3,
            5,
            4,
            3,
            4,
            7,
            5,
            3,
            3,
            11,
            4,
            3,
            7,
            5,
            4,
            10,
            6,
            3,
            3,
            8,
            10,
            4,
            3,
            6,
            4,
            7,
            9,
            8,
            10,
            6,
            11,
            9,
            7,
            8,
            5,
            12,
            6,
            9,
            7,
            8,
            11,
            5,
            4,
            12,
            10,
            6,
            5,
            3,
            4,
            7,
            6,
            5,
            4,
            4,
            5,
            4,
            4,
            3,
            5,
            3,
            5,
            4,
            3,
            4,
            3,
            4,
            5,
            5,
            4,
            4,
            5,
            11,
            4,
            3,
            5,
            12,
            10,
            3,
            9,
            5,
            4
           ]
          },
          {
           "label": "min_child_weight",
           "range": [
            2,
            15
           ],
           "values": [
            10,
            9,
            2,
            10,
            4,
            15,
            14,
            6,
            15,
            8,
            7,
            12,
            7,
            7,
            12,
            7,
            6,
            8,
            11,
            6,
            8,
            12,
            5,
            9,
            7,
            13,
            9,
            10,
            5,
            11,
            8,
            11,
            9,
            12,
            10,
            5,
            7,
            6,
            9,
            14,
            5,
            7,
            7,
            8,
            6,
            7,
            14,
            15,
            6,
            6,
            5,
            6,
            5,
            6,
            13,
            7,
            6,
            5,
            8,
            7,
            6,
            12,
            6,
            5,
            7,
            5,
            10,
            11,
            13,
            9,
            15,
            6,
            8,
            7,
            5,
            14,
            14,
            6,
            6,
            5,
            7,
            6,
            12,
            10,
            15,
            7,
            11,
            5,
            6,
            8,
            7,
            7,
            6,
            8,
            13,
            5,
            6,
            9,
            6,
            7,
            12,
            5,
            8,
            14,
            10
           ]
          },
          {
           "label": "n_estimators",
           "range": [
            51,
            150
           ],
           "values": [
            72,
            106,
            105,
            68,
            86,
            72,
            106,
            105,
            68,
            86,
            139,
            148,
            149,
            144,
            128,
            128,
            122,
            150,
            51,
            119,
            140,
            136,
            129,
            145,
            133,
            118,
            138,
            142,
            133,
            150,
            52,
            135,
            124,
            143,
            128,
            113,
            114,
            92,
            77,
            145,
            60,
            96,
            136,
            132,
            144,
            82,
            102,
            62,
            147,
            147,
            140,
            149,
            110,
            138,
            130,
            125,
            146,
            150,
            142,
            134,
            87,
            75,
            141,
            66,
            147,
            56,
            138,
            126,
            121,
            143,
            95,
            150,
            145,
            137,
            107,
            82,
            147,
            132,
            70,
            80,
            142,
            116,
            145,
            90,
            101,
            139,
            149,
            147,
            53,
            140,
            136,
            144,
            98,
            136,
            141,
            148,
            62,
            150,
            140,
            143,
            145,
            148,
            84,
            103,
            110
           ]
          },
          {
           "label": "reg_alpha",
           "range": [
            -4.993614430966961,
            -0.004914637389753935
           ],
           "ticktext": [
            "1.01e-05",
            "0.0001",
            "0.001",
            "0.01",
            "0.1",
            "0.989"
           ],
           "tickvals": [
            -4.993614430966961,
            -4,
            -3,
            -2,
            -1,
            -0.004914637389753935
           ],
           "values": [
            -2.1457555988439228,
            -1.4157247221278566,
            -1.2772125364511682,
            -4.679694833142726,
            -0.7096568267590725,
            -2.1457555988439228,
            -1.4157247221278566,
            -1.2772125364511682,
            -4.679694833142726,
            -0.7096568267590725,
            -0.22817002104743814,
            -0.015697043133744582,
            -2.8604371904452086,
            -3.4459105602062037,
            -3.452786132112023,
            -3.2652568912336846,
            -3.0900410424112446,
            -4.034091765525341,
            -2.6838616007161216,
            -3.9219298427020846,
            -4.992029642578659,
            -3.5985443390464047,
            -2.8115820018006583,
            -2.374634924271983,
            -3.3618194926946177,
            -3.8300139653060152,
            -2.87331626881062,
            -3.64234407025694,
            -4.327997995427861,
            -2.983924101972579,
            -2.452682475026641,
            -3.5236325722728457,
            -3.374821407204659,
            -1.9727691023839222,
            -3.200698168508813,
            -3.61311218421529,
            -4.278417674024678,
            -2.6677556184716957,
            -3.03071193562838,
            -1.9465133979420846,
            -3.729450683834429,
            -3.4353607628743603,
            -3.353276535185152,
            -0.8926972121059324,
            -4.177484027972636,
            -1.4959999507798927,
            -3.142865380009398,
            -3.9904703794034364,
            -3.775838781671358,
            -4.682916686044894,
            -3.590706604595751,
            -3.8151349641197796,
            -0.14307880367604056,
            -4.069520589939787,
            -4.458519063443508,
            -3.8963926091869086,
            -0.504484903243454,
            -3.2584530738175226,
            -3.700754099034685,
            -2.285669629469913,
            -3.426494408513143,
            -1.0721094525094454,
            -4.993614430966961,
            -2.559059279657045,
            -0.333363674737764,
            -4.079692604937832,
            -3.8077406758697987,
            -2.9738556868507704,
            -2.8223397704328272,
            -3.481859322729646,
            -3.317842688732392,
            -1.7298328457916479,
            -2.2120553088465336,
            -0.004914637389753935,
            -1.1784403575033797,
            -3.607361902678837,
            -3.575919559566999,
            -3.9373742692769893,
            -3.131665352207907,
            -1.4253234633512357,
            -3.7521480649925985,
            -0.7262467658276628,
            -2.470776171087457,
            -1.603966948834818,
            -2.026740108914452,
            -3.6432582484829847,
            -4.1846955384431,
            -4.426786938398499,
            -3.2384376753295934,
            -3.383937668464298,
            -3.9126796101901573,
            -3.912753884735258,
            -1.8204076977996082,
            -3.470797462229501,
            -3.714071779261853,
            -2.364556706713303,
            -1.3579308697023917,
            -4.722014761104337,
            -2.1219345588158545,
            -2.7661880335868863,
            -2.9313748989976487,
            -2.6066611155085484,
            -3.3419073859931716,
            -3.1152592403935677,
            -3.8532350492602854
           ]
          },
          {
           "label": "reg_lambda",
           "range": [
            -4.974728960846102,
            -0.002909832770778325
           ],
           "ticktext": [
            "1.06e-05",
            "0.0001",
            "0.001",
            "0.01",
            "0.1",
            "0.993"
           ],
           "tickvals": [
            -4.974728960846102,
            -4,
            -3,
            -2,
            -1,
            -0.002909832770778325
           ],
           "values": [
            -4.076792691799841,
            -0.4790800223039169,
            -2.417610971450267,
            -3.3652437889951896,
            -3.8555415913894837,
            -4.076792691799841,
            -0.4790800223039169,
            -2.417610971450267,
            -3.3652437889951896,
            -3.8555415913894837,
            -1.9865249848310993,
            -1.62631105750851,
            -1.5307795081689024,
            -4.9277244793122135,
            -4.830050358656921,
            -4.92665920403668,
            -1.3900400925159218,
            -2.944800114897032,
            -4.6046221835454535,
            -2.812370425184744,
            -4.939292171566799,
            -4.560113210526785,
            -0.9660993871402246,
            -0.2728423111615876,
            -4.438336622050902,
            -4.378772790806821,
            -4.544012818672496,
            -4.92371436279652,
            -4.222197071124935,
            -4.025241259177332,
            -4.627464510777743,
            -0.002909832770778325,
            -1.9074209474262547,
            -1.0949020873204152,
            -3.5515788019142436,
            -4.717431292281716,
            -4.296447977843238,
            -4.782303861350713,
            -4.968326793921521,
            -2.1648816727889018,
            -3.6773381461028483,
            -4.402214177708152,
            -4.465283539469513,
            -4.078487015511943,
            -3.258224212732621,
            -2.6180620741392526,
            -4.689795239247362,
            -3.976850080282575,
            -4.226349618351787,
            -3.1688921278892055,
            -3.666919148041291,
            -3.4789872664295807,
            -3.0205707777596493,
            -2.4617460181029633,
            -2.685489435785618,
            -3.865185961627848,
            -2.943642599042719,
            -4.211978408362577,
            -2.2714079461906223,
            -3.200601112525794,
            -3.377934407935024,
            -1.842320739075344,
            -3.7340129652455336,
            -1.5215954803555585,
            -2.834197713343144,
            -4.508553458296475,
            -4.146384968495024,
            -2.582257650232056,
            -0.6661341475752413,
            -4.287968840139829,
            -1.813108901185837,
            -4.779127230203131,
            -2.2745902302997347,
            -3.9257934788308457,
            -4.360740979856845,
            -3.5370766431605687,
            -4.040202502140042,
            -1.1233032513852963,
            -3.8416158285402693,
            -4.546557278252064,
            -4.165792912304086,
            -4.841333541884043,
            -3.5220014769750025,
            -4.632689363788867,
            -4.4559862615108,
            -4.974728960846102,
            -4.315021368363135,
            -3.75330287631179,
            -4.029511453920123,
            -4.621670307145676,
            -4.657012793800487,
            -4.664749952541748,
            -3.6005783691658935,
            -3.4208307603490895,
            -3.248067163341057,
            -3.816383672034099,
            -3.6238579831516784,
            -4.858219651630485,
            -3.9424816701311105,
            -4.147890073079946,
            -3.3281021824961012,
            -4.426005245754326,
            -3.042397761204023,
            -0.0487866526018281,
            -3.4778679712394336
           ]
          },
          {
           "label": "subsample",
           "range": [
            0.4,
            1
           ],
           "values": [
            0.8,
            0.6,
            0.5,
            0.7,
            0.8,
            0.7000000000000001,
            0.55,
            0.4,
            0.65,
            0.7000000000000001,
            0.4,
            1,
            0.4,
            0.4,
            0.5,
            1,
            0.45,
            0.8500000000000001,
            0.9,
            0.6000000000000001,
            0.45,
            0.5,
            0.4,
            0.5,
            0.45,
            0.4,
            0.55,
            0.45,
            0.55,
            0.5,
            0.4,
            0.45,
            0.5,
            0.9500000000000001,
            0.4,
            0.75,
            0.5,
            0.6000000000000001,
            0.8,
            0.45,
            0.55,
            0.45,
            0.4,
            0.75,
            0.65,
            0.45,
            0.9,
            0.4,
            0.65,
            0.65,
            0.75,
            0.65,
            0.8500000000000001,
            0.7000000000000001,
            0.8,
            0.6000000000000001,
            0.8500000000000001,
            0.65,
            0.9500000000000001,
            0.75,
            0.7000000000000001,
            0.6000000000000001,
            0.7000000000000001,
            0.5,
            0.55,
            0.9,
            0.9500000000000001,
            1,
            0.8,
            0.65,
            0.8500000000000001,
            0.55,
            0.5,
            0.6000000000000001,
            0.75,
            0.9,
            0.65,
            0.7000000000000001,
            0.55,
            0.9,
            0.6000000000000001,
            0.8,
            0.75,
            1,
            0.8,
            0.65,
            0.5,
            0.9500000000000001,
            0.55,
            0.7000000000000001,
            0.7000000000000001,
            0.8500000000000001,
            0.7000000000000001,
            0.6000000000000001,
            0.75,
            0.7000000000000001,
            0.65,
            0.9,
            0.45,
            0.55,
            0.8,
            0.4,
            0.5,
            0.6000000000000001,
            0.45
           ]
          }
         ],
         "labelangle": 30,
         "labelside": "bottom",
         "line": {
          "color": [
           0,
           0,
           0,
           0,
           0,
           0,
           0,
           1.98,
           0,
           0,
           23.21,
           12.91,
           155.46,
           163.47,
           121.47,
           0,
           0,
           92.15,
           0,
           31.32,
           0,
           137.7,
           122.83,
           0,
           143.21,
           5.73,
           0.18,
           7.21,
           2.89,
           18.41,
           0,
           0,
           89.02,
           72.89,
           0,
           0,
           0,
           0,
           0,
           27.27,
           0,
           0,
           0,
           40.28,
           85.81,
           27.73,
           0,
           0,
           249.98,
           39.54,
           0,
           58.56,
           0,
           0,
           14.93,
           0,
           0,
           0,
           51.57,
           0,
           0,
           0,
           97.51,
           0,
           0,
           0,
           0,
           0,
           86.24,
           0,
           0,
           0,
           0,
           0,
           48.03,
           159.74,
           2.26,
           0,
           0,
           0,
           0,
           60.55,
           0,
           0,
           0,
           47.47,
           0,
           10.38,
           0.97,
           245.02,
           156.66,
           0,
           15.61,
           0,
           51.01,
           0,
           77.93,
           13.88,
           72.13,
           22.03,
           0,
           0,
           0,
           0,
           0
          ],
          "colorbar": {
           "title": {
            "text": "Predicted revenue"
           }
          },
          "colorscale": [
           [
            0,
            "rgb(103,0,31)"
           ],
           [
            0.1,
            "rgb(178,24,43)"
           ],
           [
            0.2,
            "rgb(214,96,77)"
           ],
           [
            0.3,
            "rgb(244,165,130)"
           ],
           [
            0.4,
            "rgb(253,219,199)"
           ],
           [
            0.5,
            "rgb(247,247,247)"
           ],
           [
            0.6,
            "rgb(209,229,240)"
           ],
           [
            0.7,
            "rgb(146,197,222)"
           ],
           [
            0.8,
            "rgb(67,147,195)"
           ],
           [
            0.9,
            "rgb(33,102,172)"
           ],
           [
            1,
            "rgb(5,48,97)"
           ]
          ],
          "reversescale": true,
          "showscale": true
         },
         "type": "parcoords"
        }
       ],
       "layout": {
        "template": {
         "data": {
          "bar": [
           {
            "error_x": {
             "color": "#2a3f5f"
            },
            "error_y": {
             "color": "#2a3f5f"
            },
            "marker": {
             "line": {
              "color": "#E5ECF6",
              "width": 0.5
             },
             "pattern": {
              "fillmode": "overlay",
              "size": 10,
              "solidity": 0.2
             }
            },
            "type": "bar"
           }
          ],
          "barpolar": [
           {
            "marker": {
             "line": {
              "color": "#E5ECF6",
              "width": 0.5
             },
             "pattern": {
              "fillmode": "overlay",
              "size": 10,
              "solidity": 0.2
             }
            },
            "type": "barpolar"
           }
          ],
          "carpet": [
           {
            "aaxis": {
             "endlinecolor": "#2a3f5f",
             "gridcolor": "white",
             "linecolor": "white",
             "minorgridcolor": "white",
             "startlinecolor": "#2a3f5f"
            },
            "baxis": {
             "endlinecolor": "#2a3f5f",
             "gridcolor": "white",
             "linecolor": "white",
             "minorgridcolor": "white",
             "startlinecolor": "#2a3f5f"
            },
            "type": "carpet"
           }
          ],
          "choropleth": [
           {
            "colorbar": {
             "outlinewidth": 0,
             "ticks": ""
            },
            "type": "choropleth"
           }
          ],
          "contour": [
           {
            "colorbar": {
             "outlinewidth": 0,
             "ticks": ""
            },
            "colorscale": [
             [
              0,
              "#0d0887"
             ],
             [
              0.1111111111111111,
              "#46039f"
             ],
             [
              0.2222222222222222,
              "#7201a8"
             ],
             [
              0.3333333333333333,
              "#9c179e"
             ],
             [
              0.4444444444444444,
              "#bd3786"
             ],
             [
              0.5555555555555556,
              "#d8576b"
             ],
             [
              0.6666666666666666,
              "#ed7953"
             ],
             [
              0.7777777777777778,
              "#fb9f3a"
             ],
             [
              0.8888888888888888,
              "#fdca26"
             ],
             [
              1,
              "#f0f921"
             ]
            ],
            "type": "contour"
           }
          ],
          "contourcarpet": [
           {
            "colorbar": {
             "outlinewidth": 0,
             "ticks": ""
            },
            "type": "contourcarpet"
           }
          ],
          "heatmap": [
           {
            "colorbar": {
             "outlinewidth": 0,
             "ticks": ""
            },
            "colorscale": [
             [
              0,
              "#0d0887"
             ],
             [
              0.1111111111111111,
              "#46039f"
             ],
             [
              0.2222222222222222,
              "#7201a8"
             ],
             [
              0.3333333333333333,
              "#9c179e"
             ],
             [
              0.4444444444444444,
              "#bd3786"
             ],
             [
              0.5555555555555556,
              "#d8576b"
             ],
             [
              0.6666666666666666,
              "#ed7953"
             ],
             [
              0.7777777777777778,
              "#fb9f3a"
             ],
             [
              0.8888888888888888,
              "#fdca26"
             ],
             [
              1,
              "#f0f921"
             ]
            ],
            "type": "heatmap"
           }
          ],
          "heatmapgl": [
           {
            "colorbar": {
             "outlinewidth": 0,
             "ticks": ""
            },
            "colorscale": [
             [
              0,
              "#0d0887"
             ],
             [
              0.1111111111111111,
              "#46039f"
             ],
             [
              0.2222222222222222,
              "#7201a8"
             ],
             [
              0.3333333333333333,
              "#9c179e"
             ],
             [
              0.4444444444444444,
              "#bd3786"
             ],
             [
              0.5555555555555556,
              "#d8576b"
             ],
             [
              0.6666666666666666,
              "#ed7953"
             ],
             [
              0.7777777777777778,
              "#fb9f3a"
             ],
             [
              0.8888888888888888,
              "#fdca26"
             ],
             [
              1,
              "#f0f921"
             ]
            ],
            "type": "heatmapgl"
           }
          ],
          "histogram": [
           {
            "marker": {
             "pattern": {
              "fillmode": "overlay",
              "size": 10,
              "solidity": 0.2
             }
            },
            "type": "histogram"
           }
          ],
          "histogram2d": [
           {
            "colorbar": {
             "outlinewidth": 0,
             "ticks": ""
            },
            "colorscale": [
             [
              0,
              "#0d0887"
             ],
             [
              0.1111111111111111,
              "#46039f"
             ],
             [
              0.2222222222222222,
              "#7201a8"
             ],
             [
              0.3333333333333333,
              "#9c179e"
             ],
             [
              0.4444444444444444,
              "#bd3786"
             ],
             [
              0.5555555555555556,
              "#d8576b"
             ],
             [
              0.6666666666666666,
              "#ed7953"
             ],
             [
              0.7777777777777778,
              "#fb9f3a"
             ],
             [
              0.8888888888888888,
              "#fdca26"
             ],
             [
              1,
              "#f0f921"
             ]
            ],
            "type": "histogram2d"
           }
          ],
          "histogram2dcontour": [
           {
            "colorbar": {
             "outlinewidth": 0,
             "ticks": ""
            },
            "colorscale": [
             [
              0,
              "#0d0887"
             ],
             [
              0.1111111111111111,
              "#46039f"
             ],
             [
              0.2222222222222222,
              "#7201a8"
             ],
             [
              0.3333333333333333,
              "#9c179e"
             ],
             [
              0.4444444444444444,
              "#bd3786"
             ],
             [
              0.5555555555555556,
              "#d8576b"
             ],
             [
              0.6666666666666666,
              "#ed7953"
             ],
             [
              0.7777777777777778,
              "#fb9f3a"
             ],
             [
              0.8888888888888888,
              "#fdca26"
             ],
             [
              1,
              "#f0f921"
             ]
            ],
            "type": "histogram2dcontour"
           }
          ],
          "mesh3d": [
           {
            "colorbar": {
             "outlinewidth": 0,
             "ticks": ""
            },
            "type": "mesh3d"
           }
          ],
          "parcoords": [
           {
            "line": {
             "colorbar": {
              "outlinewidth": 0,
              "ticks": ""
             }
            },
            "type": "parcoords"
           }
          ],
          "pie": [
           {
            "automargin": true,
            "type": "pie"
           }
          ],
          "scatter": [
           {
            "fillpattern": {
             "fillmode": "overlay",
             "size": 10,
             "solidity": 0.2
            },
            "type": "scatter"
           }
          ],
          "scatter3d": [
           {
            "line": {
             "colorbar": {
              "outlinewidth": 0,
              "ticks": ""
             }
            },
            "marker": {
             "colorbar": {
              "outlinewidth": 0,
              "ticks": ""
             }
            },
            "type": "scatter3d"
           }
          ],
          "scattercarpet": [
           {
            "marker": {
             "colorbar": {
              "outlinewidth": 0,
              "ticks": ""
             }
            },
            "type": "scattercarpet"
           }
          ],
          "scattergeo": [
           {
            "marker": {
             "colorbar": {
              "outlinewidth": 0,
              "ticks": ""
             }
            },
            "type": "scattergeo"
           }
          ],
          "scattergl": [
           {
            "marker": {
             "colorbar": {
              "outlinewidth": 0,
              "ticks": ""
             }
            },
            "type": "scattergl"
           }
          ],
          "scattermapbox": [
           {
            "marker": {
             "colorbar": {
              "outlinewidth": 0,
              "ticks": ""
             }
            },
            "type": "scattermapbox"
           }
          ],
          "scatterpolar": [
           {
            "marker": {
             "colorbar": {
              "outlinewidth": 0,
              "ticks": ""
             }
            },
            "type": "scatterpolar"
           }
          ],
          "scatterpolargl": [
           {
            "marker": {
             "colorbar": {
              "outlinewidth": 0,
              "ticks": ""
             }
            },
            "type": "scatterpolargl"
           }
          ],
          "scatterternary": [
           {
            "marker": {
             "colorbar": {
              "outlinewidth": 0,
              "ticks": ""
             }
            },
            "type": "scatterternary"
           }
          ],
          "surface": [
           {
            "colorbar": {
             "outlinewidth": 0,
             "ticks": ""
            },
            "colorscale": [
             [
              0,
              "#0d0887"
             ],
             [
              0.1111111111111111,
              "#46039f"
             ],
             [
              0.2222222222222222,
              "#7201a8"
             ],
             [
              0.3333333333333333,
              "#9c179e"
             ],
             [
              0.4444444444444444,
              "#bd3786"
             ],
             [
              0.5555555555555556,
              "#d8576b"
             ],
             [
              0.6666666666666666,
              "#ed7953"
             ],
             [
              0.7777777777777778,
              "#fb9f3a"
             ],
             [
              0.8888888888888888,
              "#fdca26"
             ],
             [
              1,
              "#f0f921"
             ]
            ],
            "type": "surface"
           }
          ],
          "table": [
           {
            "cells": {
             "fill": {
              "color": "#EBF0F8"
             },
             "line": {
              "color": "white"
             }
            },
            "header": {
             "fill": {
              "color": "#C8D4E3"
             },
             "line": {
              "color": "white"
             }
            },
            "type": "table"
           }
          ]
         },
         "layout": {
          "annotationdefaults": {
           "arrowcolor": "#2a3f5f",
           "arrowhead": 0,
           "arrowwidth": 1
          },
          "autotypenumbers": "strict",
          "coloraxis": {
           "colorbar": {
            "outlinewidth": 0,
            "ticks": ""
           }
          },
          "colorscale": {
           "diverging": [
            [
             0,
             "#8e0152"
            ],
            [
             0.1,
             "#c51b7d"
            ],
            [
             0.2,
             "#de77ae"
            ],
            [
             0.3,
             "#f1b6da"
            ],
            [
             0.4,
             "#fde0ef"
            ],
            [
             0.5,
             "#f7f7f7"
            ],
            [
             0.6,
             "#e6f5d0"
            ],
            [
             0.7,
             "#b8e186"
            ],
            [
             0.8,
             "#7fbc41"
            ],
            [
             0.9,
             "#4d9221"
            ],
            [
             1,
             "#276419"
            ]
           ],
           "sequential": [
            [
             0,
             "#0d0887"
            ],
            [
             0.1111111111111111,
             "#46039f"
            ],
            [
             0.2222222222222222,
             "#7201a8"
            ],
            [
             0.3333333333333333,
             "#9c179e"
            ],
            [
             0.4444444444444444,
             "#bd3786"
            ],
            [
             0.5555555555555556,
             "#d8576b"
            ],
            [
             0.6666666666666666,
             "#ed7953"
            ],
            [
             0.7777777777777778,
             "#fb9f3a"
            ],
            [
             0.8888888888888888,
             "#fdca26"
            ],
            [
             1,
             "#f0f921"
            ]
           ],
           "sequentialminus": [
            [
             0,
             "#0d0887"
            ],
            [
             0.1111111111111111,
             "#46039f"
            ],
            [
             0.2222222222222222,
             "#7201a8"
            ],
            [
             0.3333333333333333,
             "#9c179e"
            ],
            [
             0.4444444444444444,
             "#bd3786"
            ],
            [
             0.5555555555555556,
             "#d8576b"
            ],
            [
             0.6666666666666666,
             "#ed7953"
            ],
            [
             0.7777777777777778,
             "#fb9f3a"
            ],
            [
             0.8888888888888888,
             "#fdca26"
            ],
            [
             1,
             "#f0f921"
            ]
           ]
          },
          "colorway": [
           "#636efa",
           "#EF553B",
           "#00cc96",
           "#ab63fa",
           "#FFA15A",
           "#19d3f3",
           "#FF6692",
           "#B6E880",
           "#FF97FF",
           "#FECB52"
          ],
          "font": {
           "color": "#2a3f5f"
          },
          "geo": {
           "bgcolor": "white",
           "lakecolor": "white",
           "landcolor": "#E5ECF6",
           "showlakes": true,
           "showland": true,
           "subunitcolor": "white"
          },
          "hoverlabel": {
           "align": "left"
          },
          "hovermode": "closest",
          "mapbox": {
           "style": "light"
          },
          "paper_bgcolor": "white",
          "plot_bgcolor": "#E5ECF6",
          "polar": {
           "angularaxis": {
            "gridcolor": "white",
            "linecolor": "white",
            "ticks": ""
           },
           "bgcolor": "#E5ECF6",
           "radialaxis": {
            "gridcolor": "white",
            "linecolor": "white",
            "ticks": ""
           }
          },
          "scene": {
           "xaxis": {
            "backgroundcolor": "#E5ECF6",
            "gridcolor": "white",
            "gridwidth": 2,
            "linecolor": "white",
            "showbackground": true,
            "ticks": "",
            "zerolinecolor": "white"
           },
           "yaxis": {
            "backgroundcolor": "#E5ECF6",
            "gridcolor": "white",
            "gridwidth": 2,
            "linecolor": "white",
            "showbackground": true,
            "ticks": "",
            "zerolinecolor": "white"
           },
           "zaxis": {
            "backgroundcolor": "#E5ECF6",
            "gridcolor": "white",
            "gridwidth": 2,
            "linecolor": "white",
            "showbackground": true,
            "ticks": "",
            "zerolinecolor": "white"
           }
          },
          "shapedefaults": {
           "line": {
            "color": "#2a3f5f"
           }
          },
          "ternary": {
           "aaxis": {
            "gridcolor": "white",
            "linecolor": "white",
            "ticks": ""
           },
           "baxis": {
            "gridcolor": "white",
            "linecolor": "white",
            "ticks": ""
           },
           "bgcolor": "#E5ECF6",
           "caxis": {
            "gridcolor": "white",
            "linecolor": "white",
            "ticks": ""
           }
          },
          "title": {
           "x": 0.05
          },
          "xaxis": {
           "automargin": true,
           "gridcolor": "white",
           "linecolor": "white",
           "ticks": "",
           "title": {
            "standoff": 15
           },
           "zerolinecolor": "white",
           "zerolinewidth": 2
          },
          "yaxis": {
           "automargin": true,
           "gridcolor": "white",
           "linecolor": "white",
           "ticks": "",
           "title": {
            "standoff": 15
           },
           "zerolinecolor": "white",
           "zerolinewidth": 2
          }
         }
        },
        "title": {
         "text": "Parallel Coordinate Plot"
        }
       }
      }
     },
     "metadata": {},
     "output_type": "display_data"
    }
   ],
   "source": [
    "plot_parallel_coordinate(s.study,  target=lambda t: t.values[1], target_name='Predicted revenue')"
   ]
  },
  {
   "cell_type": "code",
   "execution_count": 8,
   "metadata": {},
   "outputs": [
    {
     "data": {
      "text/html": [
       "<div>\n",
       "<style scoped>\n",
       "    .dataframe tbody tr th:only-of-type {\n",
       "        vertical-align: middle;\n",
       "    }\n",
       "\n",
       "    .dataframe tbody tr th {\n",
       "        vertical-align: top;\n",
       "    }\n",
       "\n",
       "    .dataframe thead th {\n",
       "        text-align: right;\n",
       "    }\n",
       "</style>\n",
       "<table border=\"1\" class=\"dataframe\">\n",
       "  <thead>\n",
       "    <tr style=\"text-align: right;\">\n",
       "      <th></th>\n",
       "      <th>number</th>\n",
       "      <th>value</th>\n",
       "      <th>datetime_start</th>\n",
       "      <th>datetime_complete</th>\n",
       "      <th>duration</th>\n",
       "      <th>params_colsample_bytree</th>\n",
       "      <th>params_gamma</th>\n",
       "      <th>params_learning_rate</th>\n",
       "      <th>params_linlin_weight</th>\n",
       "      <th>params_max_depth</th>\n",
       "      <th>params_min_child_weight</th>\n",
       "      <th>params_n_estimators</th>\n",
       "      <th>params_reg_alpha</th>\n",
       "      <th>params_reg_lambda</th>\n",
       "      <th>params_subsample</th>\n",
       "      <th>state</th>\n",
       "    </tr>\n",
       "  </thead>\n",
       "  <tbody>\n",
       "    <tr>\n",
       "      <th>0</th>\n",
       "      <td>0</td>\n",
       "      <td>18.23</td>\n",
       "      <td>2023-07-19 16:37:02.745734</td>\n",
       "      <td>2023-07-19 16:37:03.579006</td>\n",
       "      <td>0 days 00:00:00.833272</td>\n",
       "      <td>0.80</td>\n",
       "      <td>0.168387</td>\n",
       "      <td>0.142047</td>\n",
       "      <td>0.034</td>\n",
       "      <td>6</td>\n",
       "      <td>15</td>\n",
       "      <td>72</td>\n",
       "      <td>0.007149</td>\n",
       "      <td>0.000084</td>\n",
       "      <td>0.70</td>\n",
       "      <td>COMPLETE</td>\n",
       "    </tr>\n",
       "    <tr>\n",
       "      <th>1</th>\n",
       "      <td>1</td>\n",
       "      <td>327.38</td>\n",
       "      <td>2023-07-19 16:37:03.629725</td>\n",
       "      <td>2023-07-19 16:37:04.395556</td>\n",
       "      <td>0 days 00:00:00.765831</td>\n",
       "      <td>0.50</td>\n",
       "      <td>0.107765</td>\n",
       "      <td>0.299170</td>\n",
       "      <td>0.241</td>\n",
       "      <td>8</td>\n",
       "      <td>14</td>\n",
       "      <td>106</td>\n",
       "      <td>0.038395</td>\n",
       "      <td>0.331833</td>\n",
       "      <td>0.55</td>\n",
       "      <td>COMPLETE</td>\n",
       "    </tr>\n",
       "    <tr>\n",
       "      <th>2</th>\n",
       "      <td>2</td>\n",
       "      <td>705.27</td>\n",
       "      <td>2023-07-19 16:37:04.442535</td>\n",
       "      <td>2023-07-19 16:37:05.212618</td>\n",
       "      <td>0 days 00:00:00.770083</td>\n",
       "      <td>0.40</td>\n",
       "      <td>0.276015</td>\n",
       "      <td>0.456703</td>\n",
       "      <td>0.134</td>\n",
       "      <td>9</td>\n",
       "      <td>6</td>\n",
       "      <td>105</td>\n",
       "      <td>0.052819</td>\n",
       "      <td>0.003823</td>\n",
       "      <td>0.40</td>\n",
       "      <td>COMPLETE</td>\n",
       "    </tr>\n",
       "    <tr>\n",
       "      <th>3</th>\n",
       "      <td>3</td>\n",
       "      <td>323.21</td>\n",
       "      <td>2023-07-19 16:37:05.262472</td>\n",
       "      <td>2023-07-19 16:37:05.806538</td>\n",
       "      <td>0 days 00:00:00.544066</td>\n",
       "      <td>0.70</td>\n",
       "      <td>0.961347</td>\n",
       "      <td>0.481687</td>\n",
       "      <td>0.234</td>\n",
       "      <td>9</td>\n",
       "      <td>15</td>\n",
       "      <td>68</td>\n",
       "      <td>0.000021</td>\n",
       "      <td>0.000431</td>\n",
       "      <td>0.65</td>\n",
       "      <td>COMPLETE</td>\n",
       "    </tr>\n",
       "    <tr>\n",
       "      <th>4</th>\n",
       "      <td>4</td>\n",
       "      <td>54.67</td>\n",
       "      <td>2023-07-19 16:37:05.858236</td>\n",
       "      <td>2023-07-19 16:37:06.573569</td>\n",
       "      <td>0 days 00:00:00.715333</td>\n",
       "      <td>0.25</td>\n",
       "      <td>0.434356</td>\n",
       "      <td>0.211589</td>\n",
       "      <td>0.130</td>\n",
       "      <td>6</td>\n",
       "      <td>8</td>\n",
       "      <td>86</td>\n",
       "      <td>0.195139</td>\n",
       "      <td>0.000139</td>\n",
       "      <td>0.70</td>\n",
       "      <td>COMPLETE</td>\n",
       "    </tr>\n",
       "    <tr>\n",
       "      <th>...</th>\n",
       "      <td>...</td>\n",
       "      <td>...</td>\n",
       "      <td>...</td>\n",
       "      <td>...</td>\n",
       "      <td>...</td>\n",
       "      <td>...</td>\n",
       "      <td>...</td>\n",
       "      <td>...</td>\n",
       "      <td>...</td>\n",
       "      <td>...</td>\n",
       "      <td>...</td>\n",
       "      <td>...</td>\n",
       "      <td>...</td>\n",
       "      <td>...</td>\n",
       "      <td>...</td>\n",
       "      <td>...</td>\n",
       "    </tr>\n",
       "    <tr>\n",
       "      <th>95</th>\n",
       "      <td>95</td>\n",
       "      <td>1.80</td>\n",
       "      <td>2023-07-19 16:38:18.860764</td>\n",
       "      <td>2023-07-19 16:38:19.489983</td>\n",
       "      <td>0 days 00:00:00.629219</td>\n",
       "      <td>0.35</td>\n",
       "      <td>0.089739</td>\n",
       "      <td>0.076534</td>\n",
       "      <td>0.016</td>\n",
       "      <td>7</td>\n",
       "      <td>11</td>\n",
       "      <td>58</td>\n",
       "      <td>0.008963</td>\n",
       "      <td>0.018612</td>\n",
       "      <td>0.80</td>\n",
       "      <td>COMPLETE</td>\n",
       "    </tr>\n",
       "    <tr>\n",
       "      <th>96</th>\n",
       "      <td>96</td>\n",
       "      <td>4.14</td>\n",
       "      <td>2023-07-19 16:38:19.539048</td>\n",
       "      <td>2023-07-19 16:38:20.328112</td>\n",
       "      <td>0 days 00:00:00.789064</td>\n",
       "      <td>0.45</td>\n",
       "      <td>0.037945</td>\n",
       "      <td>0.050489</td>\n",
       "      <td>0.033</td>\n",
       "      <td>8</td>\n",
       "      <td>11</td>\n",
       "      <td>63</td>\n",
       "      <td>0.002694</td>\n",
       "      <td>0.023210</td>\n",
       "      <td>0.75</td>\n",
       "      <td>COMPLETE</td>\n",
       "    </tr>\n",
       "    <tr>\n",
       "      <th>97</th>\n",
       "      <td>97</td>\n",
       "      <td>52.45</td>\n",
       "      <td>2023-07-19 16:38:20.379430</td>\n",
       "      <td>2023-07-19 16:38:20.998766</td>\n",
       "      <td>0 days 00:00:00.619336</td>\n",
       "      <td>0.50</td>\n",
       "      <td>0.021634</td>\n",
       "      <td>0.099550</td>\n",
       "      <td>0.189</td>\n",
       "      <td>8</td>\n",
       "      <td>12</td>\n",
       "      <td>55</td>\n",
       "      <td>0.014549</td>\n",
       "      <td>0.045638</td>\n",
       "      <td>0.85</td>\n",
       "      <td>COMPLETE</td>\n",
       "    </tr>\n",
       "    <tr>\n",
       "      <th>98</th>\n",
       "      <td>98</td>\n",
       "      <td>3.55</td>\n",
       "      <td>2023-07-19 16:38:21.055386</td>\n",
       "      <td>2023-07-19 16:38:21.812346</td>\n",
       "      <td>0 days 00:00:00.756960</td>\n",
       "      <td>0.65</td>\n",
       "      <td>0.119245</td>\n",
       "      <td>0.124692</td>\n",
       "      <td>0.020</td>\n",
       "      <td>7</td>\n",
       "      <td>11</td>\n",
       "      <td>52</td>\n",
       "      <td>0.026383</td>\n",
       "      <td>0.029682</td>\n",
       "      <td>0.85</td>\n",
       "      <td>COMPLETE</td>\n",
       "    </tr>\n",
       "    <tr>\n",
       "      <th>99</th>\n",
       "      <td>99</td>\n",
       "      <td>4.38</td>\n",
       "      <td>2023-07-19 16:38:21.873042</td>\n",
       "      <td>2023-07-19 16:38:22.495497</td>\n",
       "      <td>0 days 00:00:00.622455</td>\n",
       "      <td>0.60</td>\n",
       "      <td>0.045870</td>\n",
       "      <td>0.108046</td>\n",
       "      <td>0.028</td>\n",
       "      <td>8</td>\n",
       "      <td>12</td>\n",
       "      <td>56</td>\n",
       "      <td>0.011791</td>\n",
       "      <td>0.012835</td>\n",
       "      <td>0.90</td>\n",
       "      <td>COMPLETE</td>\n",
       "    </tr>\n",
       "  </tbody>\n",
       "</table>\n",
       "<p>100 rows × 16 columns</p>\n",
       "</div>"
      ],
      "text/plain": [
       "    number   value             datetime_start          datetime_complete  \\\n",
       "0        0   18.23 2023-07-19 16:37:02.745734 2023-07-19 16:37:03.579006   \n",
       "1        1  327.38 2023-07-19 16:37:03.629725 2023-07-19 16:37:04.395556   \n",
       "2        2  705.27 2023-07-19 16:37:04.442535 2023-07-19 16:37:05.212618   \n",
       "3        3  323.21 2023-07-19 16:37:05.262472 2023-07-19 16:37:05.806538   \n",
       "4        4   54.67 2023-07-19 16:37:05.858236 2023-07-19 16:37:06.573569   \n",
       "..     ...     ...                        ...                        ...   \n",
       "95      95    1.80 2023-07-19 16:38:18.860764 2023-07-19 16:38:19.489983   \n",
       "96      96    4.14 2023-07-19 16:38:19.539048 2023-07-19 16:38:20.328112   \n",
       "97      97   52.45 2023-07-19 16:38:20.379430 2023-07-19 16:38:20.998766   \n",
       "98      98    3.55 2023-07-19 16:38:21.055386 2023-07-19 16:38:21.812346   \n",
       "99      99    4.38 2023-07-19 16:38:21.873042 2023-07-19 16:38:22.495497   \n",
       "\n",
       "                 duration  params_colsample_bytree  params_gamma  \\\n",
       "0  0 days 00:00:00.833272                     0.80      0.168387   \n",
       "1  0 days 00:00:00.765831                     0.50      0.107765   \n",
       "2  0 days 00:00:00.770083                     0.40      0.276015   \n",
       "3  0 days 00:00:00.544066                     0.70      0.961347   \n",
       "4  0 days 00:00:00.715333                     0.25      0.434356   \n",
       "..                    ...                      ...           ...   \n",
       "95 0 days 00:00:00.629219                     0.35      0.089739   \n",
       "96 0 days 00:00:00.789064                     0.45      0.037945   \n",
       "97 0 days 00:00:00.619336                     0.50      0.021634   \n",
       "98 0 days 00:00:00.756960                     0.65      0.119245   \n",
       "99 0 days 00:00:00.622455                     0.60      0.045870   \n",
       "\n",
       "    params_learning_rate  params_linlin_weight  params_max_depth  \\\n",
       "0               0.142047                 0.034                 6   \n",
       "1               0.299170                 0.241                 8   \n",
       "2               0.456703                 0.134                 9   \n",
       "3               0.481687                 0.234                 9   \n",
       "4               0.211589                 0.130                 6   \n",
       "..                   ...                   ...               ...   \n",
       "95              0.076534                 0.016                 7   \n",
       "96              0.050489                 0.033                 8   \n",
       "97              0.099550                 0.189                 8   \n",
       "98              0.124692                 0.020                 7   \n",
       "99              0.108046                 0.028                 8   \n",
       "\n",
       "    params_min_child_weight  params_n_estimators  params_reg_alpha  \\\n",
       "0                        15                   72          0.007149   \n",
       "1                        14                  106          0.038395   \n",
       "2                         6                  105          0.052819   \n",
       "3                        15                   68          0.000021   \n",
       "4                         8                   86          0.195139   \n",
       "..                      ...                  ...               ...   \n",
       "95                       11                   58          0.008963   \n",
       "96                       11                   63          0.002694   \n",
       "97                       12                   55          0.014549   \n",
       "98                       11                   52          0.026383   \n",
       "99                       12                   56          0.011791   \n",
       "\n",
       "    params_reg_lambda  params_subsample     state  \n",
       "0            0.000084              0.70  COMPLETE  \n",
       "1            0.331833              0.55  COMPLETE  \n",
       "2            0.003823              0.40  COMPLETE  \n",
       "3            0.000431              0.65  COMPLETE  \n",
       "4            0.000139              0.70  COMPLETE  \n",
       "..                ...               ...       ...  \n",
       "95           0.018612              0.80  COMPLETE  \n",
       "96           0.023210              0.75  COMPLETE  \n",
       "97           0.045638              0.85  COMPLETE  \n",
       "98           0.029682              0.85  COMPLETE  \n",
       "99           0.012835              0.90  COMPLETE  \n",
       "\n",
       "[100 rows x 16 columns]"
      ]
     },
     "execution_count": 8,
     "metadata": {},
     "output_type": "execute_result"
    }
   ],
   "source": [
    "s.study.trials_dataframe()"
   ]
  },
  {
   "cell_type": "code",
   "execution_count": 4,
   "metadata": {},
   "outputs": [],
   "source": [
    "s.set_target(0)\n",
    "fig, result = s.plot_validation_set()"
   ]
  },
  {
   "cell_type": "code",
   "execution_count": 5,
   "metadata": {},
   "outputs": [
    {
     "data": {
      "image/png": "[encoded data removed]",
      "text/plain": [
       "<Figure size 1500x500 with 1 Axes>"
      ]
     },
     "execution_count": 5,
     "metadata": {},
     "output_type": "execute_result"
    }
   ],
   "source": [
    "result.plot_pred_vs_true(result.true)"
   ]
  },
  {
   "cell_type": "code",
   "execution_count": 6,
   "metadata": {},
   "outputs": [
    {
     "data": {
      "image/png": "[encoded data removed]",
      "text/plain": [
       "<Figure size 1500x500 with 1 Axes>"
      ]
     },
     "execution_count": 6,
     "metadata": {},
     "output_type": "execute_result"
    }
   ],
   "source": [
    "fig"
   ]
  },
  {
   "cell_type": "code",
   "execution_count": 8,
   "metadata": {},
   "outputs": [
    {
     "data": {
      "text/plain": [
       "[FrozenTrial(number=48, state=TrialState.COMPLETE, values=[0.57, 249.98], datetime_start=datetime.datetime(2023, 7, 19, 13, 11, 27, 835787), datetime_complete=datetime.datetime(2023, 7, 19, 13, 11, 28, 598835), params={'colsample_bytree': 0.35000000000000003, 'gamma': 0.6797959777451433, 'learning_rate': 0.050841622705409144, 'linlin_weight': 0.01, 'max_depth': 4, 'min_child_weight': 6, 'n_estimators': 147, 'reg_alpha': 0.00016755647619331193, 'reg_lambda': 5.938139304921485e-05, 'subsample': 0.65}, user_attrs={}, system_attrs={}, intermediate_values={}, distributions={'colsample_bytree': FloatDistribution(high=1.0, log=False, low=0.2, step=0.05), 'gamma': FloatDistribution(high=1.0, log=False, low=0.0, step=None), 'learning_rate': FloatDistribution(high=0.5, log=False, low=0.05, step=None), 'linlin_weight': FloatDistribution(high=0.25, log=False, low=0.01, step=0.001), 'max_depth': IntDistribution(high=12, log=False, low=3, step=1), 'min_child_weight': IntDistribution(high=15, log=False, low=5, step=1), 'n_estimators': IntDistribution(high=150, log=False, low=50, step=1), 'reg_alpha': FloatDistribution(high=1.0, log=True, low=1e-05, step=None), 'reg_lambda': FloatDistribution(high=1.0, log=True, low=1e-05, step=None), 'subsample': FloatDistribution(high=1.0, log=False, low=0.4, step=0.05)}, trial_id=49, value=None)]"
      ]
     },
     "execution_count": 8,
     "metadata": {},
     "output_type": "execute_result"
    }
   ],
   "source": [
    "s.study.best_trials"
   ]
  },
  {
   "cell_type": "code",
   "execution_count": null,
   "metadata": {},
   "outputs": [],
   "source": []
  }
 ],
 "metadata": {
  "kernelspec": {
   "display_name": "test",
   "language": "python",
   "name": "python3"
  },
  "language_info": {
   "codemirror_mode": {
    "name": "ipython",
    "version": 3
   },
   "file_extension": ".py",
   "mimetype": "text/x-python",
   "name": "python",
   "nbconvert_exporter": "python",
   "pygments_lexer": "ipython3",
   "version": "3.10.6"
  },
  "orig_nbformat": 4
 },
 "nbformat": 4,
 "nbformat_minor": 2
}
