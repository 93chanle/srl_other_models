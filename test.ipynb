{
 "cells": [
  {
   "cell_type": "code",
   "execution_count": 1,
   "metadata": {},
   "outputs": [
    {
     "name": "stderr",
     "output_type": "stream",
     "text": [
      "c:\\Users\\cle\\AppData\\Local\\miniforge3\\envs\\test\\lib\\site-packages\\tqdm\\auto.py:22: TqdmWarning: IProgress not found. Please update jupyter and ipywidgets. See https://ipywidgets.readthedocs.io/en/stable/user_install.html\n",
      "  from .autonotebook import tqdm as notebook_tqdm\n"
     ]
    },
    {
     "name": "stdout",
     "output_type": "stream",
     "text": [
      "Args in experiment:\n",
      "Namespace(data='SRL_NEG_00_04', model='xgboost', loss='rmse', w_rmse_weight=5, linex_weight=0.05, linlin_weight=0.1, input_len=30, target_len=1, timestamp='19-07-2023_13-08-18', root_path='data\\\\processed\\\\SRL', data_path='SRL_NEG_00_04.csv', features='S', cols=None, scale='standard', target='capacity_price', freq='d', n_estimators=100, max_depth=3, min_child_weight=1.0, learning_rate=0.1, subsample=1.0, colsample_bytree=1.0, reg_gamma=0.0, reg_alpha=0.0, tune_num_samples=5)\n",
      "\n"
     ]
    }
   ],
   "source": [
    "from data.argparser import args_parsing\n",
    "from datetime import datetime\n",
    "from optuna_objectives import XGB_Optuna\n",
    "from optuna.visualization import plot_pareto_front\n",
    "from optuna.visualization import plot_contour\n",
    "from optuna.visualization import plot_edf\n",
    "from optuna.visualization import plot_intermediate_values\n",
    "from optuna.visualization import plot_optimization_history\n",
    "from optuna.visualization import plot_parallel_coordinate\n",
    "from optuna.visualization import plot_param_importances\n",
    "from optuna.visualization import plot_slice\n",
    "\n",
    "\n",
    "now = datetime.now().strftime(\"%d-%m-%Y_%H-%M-%S\")\n",
    "\n",
    "args = args_parsing()\n",
    "args.loss = \"linlin\""
   ]
  },
  {
   "cell_type": "code",
   "execution_count": 2,
   "metadata": {},
   "outputs": [],
   "source": [
    "search_space = dict(\n",
    "    linex_weight=[0.001, 1, 0.01],\n",
    "    w_rmse_weight=[1.0, 10.0, 0.1],\n",
    "    linlin_weight=[0.01, 0.25, 0.001],\n",
    "    \n",
    "    n_estimators=[50, 150],\n",
    "    min_child_weight=[5, 15],\n",
    "    max_depth=[3, 12],\n",
    "    \n",
    "    learning_rate=[0.05, 0.5],\n",
    "    gamma=[0, 1],\n",
    "    subsample=[0.4, 1.0, 0.05],\n",
    "    colsample_bytree=[0.2, 1.0, 0.05],\n",
    "    \n",
    "    reg_alpha=[1e-5, 1.0],\n",
    "    reg_lambda=[1e-5, 1.0],\n",
    "    )"
   ]
  },
  {
   "cell_type": "code",
   "execution_count": 3,
   "metadata": {},
   "outputs": [
    {
     "name": "stderr",
     "output_type": "stream",
     "text": [
      "[I 2023-07-19 13:08:23,720] A new study created in RDB with name: tune_xgboost_SRL_NEG_00_04_linlin_19-07-2023_13-08-18\n",
      "[I 2023-07-19 13:08:24,405] Trial 0 finished with values: [1.55, 0.0] and parameters: {'colsample_bytree': 0.9, 'gamma': 0.16838654112510065, 'learning_rate': 0.1420472237597333, 'linlin_weight': 0.09, 'max_depth': 6, 'min_child_weight': 10, 'n_estimators': 72, 'reg_alpha': 0.007148985252278011, 'reg_lambda': 8.379291677846228e-05, 'subsample': 0.8}. \n",
      "[I 2023-07-19 13:08:25,174] Trial 1 finished with values: [14.36, 0.0] and parameters: {'colsample_bytree': 0.7, 'gamma': 0.1077646441730562, 'learning_rate': 0.29916994334120994, 'linlin_weight': 0.435, 'max_depth': 8, 'min_child_weight': 9, 'n_estimators': 106, 'reg_alpha': 0.03839505357046492, 'reg_lambda': 0.3318333089229249, 'subsample': 0.6}. \n",
      "[I 2023-07-19 13:08:26,026] Trial 2 finished with values: [12.79, 0.0] and parameters: {'colsample_bytree': 0.6, 'gamma': 0.2760151754039224, 'learning_rate': 0.45670312794722306, 'linlin_weight': 0.255, 'max_depth': 9, 'min_child_weight': 2, 'n_estimators': 105, 'reg_alpha': 0.05281867027828625, 'reg_lambda': 0.0038228655885410804, 'subsample': 0.5}. \n",
      "[I 2023-07-19 13:08:26,674] Trial 3 finished with values: [14.45, 0.0] and parameters: {'colsample_bytree': 0.8, 'gamma': 0.9613472103734924, 'learning_rate': 0.48168700681345406, 'linlin_weight': 0.425, 'max_depth': 9, 'min_child_weight': 10, 'n_estimators': 68, 'reg_alpha': 2.090764738031011e-05, 'reg_lambda': 0.0004312769137669365, 'subsample': 0.7}. \n",
      "[I 2023-07-19 13:08:27,757] Trial 4 finished with values: [5.1, 0.0] and parameters: {'colsample_bytree': 0.5, 'gamma': 0.4343555813976687, 'learning_rate': 0.2115886298786499, 'linlin_weight': 0.25, 'max_depth': 6, 'min_child_weight': 4, 'n_estimators': 86, 'reg_alpha': 0.19513859477566053, 'reg_lambda': 0.00013946280909010646, 'subsample': 0.8}. \n"
     ]
    }
   ],
   "source": [
    "s = XGB_Optuna(args=args, search_space=search_space, timestamp=now, n_trials=100)"
   ]
  },
  {
   "cell_type": "code",
   "execution_count": null,
   "metadata": {},
   "outputs": [],
   "source": [
    "search_space = dict(\n",
    "    linex_weight=[0.001, 1, 0.01],\n",
    "    w_rmse_weight=[1.0, 10.0, 0.1],\n",
    "    linlin_weight=[0.05, 0.45, 0.005],\n",
    "    \n",
    "    n_estimators=[50, 150],\n",
    "    min_child_weight=[1, 10],\n",
    "    max_depth=[3, 12],\n",
    "    \n",
    "    learning_rate=[0.05, 0.5],\n",
    "    gamma=[0, 1],\n",
    "    subsample=[0.5, 1.0, 0.1],\n",
    "    colsample_bytree=[0.5, 1.0, 0.1],\n",
    "    \n",
    "    reg_alpha=[1e-5, 1.0],\n",
    "    reg_lambda=[1e-5, 1.0],\n",
    "    )"
   ]
  }
 ],
 "metadata": {
  "kernelspec": {
   "display_name": "test",
   "language": "python",
   "name": "python3"
  },
  "language_info": {
   "codemirror_mode": {
    "name": "ipython",
    "version": 3
   },
   "file_extension": ".py",
   "mimetype": "text/x-python",
   "name": "python",
   "nbconvert_exporter": "python",
   "pygments_lexer": "ipython3",
   "version": "3.10.6"
  },
  "orig_nbformat": 4
 },
 "nbformat": 4,
 "nbformat_minor": 2
}
